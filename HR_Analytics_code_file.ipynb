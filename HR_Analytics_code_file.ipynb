{
  "nbformat": 4,
  "nbformat_minor": 0,
  "metadata": {
    "colab": {
      "name": "code_file.ipynb",
      "provenance": [],
      "collapsed_sections": []
    },
    "kernelspec": {
      "name": "python3",
      "display_name": "Python 3"
    },
    "accelerator": "GPU"
  },
  "cells": [
    {
      "cell_type": "code",
      "metadata": {
        "id": "Y0WJ9RddcDV6",
        "colab_type": "code",
        "colab": {}
      },
      "source": [
        "!wget 'https://www.dropbox.com/s/m9nobjfgq86obmo/train_file.csv'\n",
        "!wget 'https://www.dropbox.com/s/40cv3eh63df6igg/test_file.csv'"
      ],
      "execution_count": 0,
      "outputs": []
    },
    {
      "cell_type": "code",
      "metadata": {
        "id": "VR_hlg00cnnq",
        "colab_type": "code",
        "colab": {}
      },
      "source": [
        "import numpy as np\n",
        "import pandas as pd\n",
        "import warnings\n",
        "warnings.filterwarnings('ignore')"
      ],
      "execution_count": 0,
      "outputs": []
    },
    {
      "cell_type": "code",
      "metadata": {
        "id": "HZ7SM8RaeDgd",
        "colab_type": "code",
        "colab": {}
      },
      "source": [
        "train_file= pd.read_csv('/content/train_file.csv')\n",
        "test_file= pd.read_csv('/content/test_file.csv')"
      ],
      "execution_count": 0,
      "outputs": []
    },
    {
      "cell_type": "code",
      "metadata": {
        "id": "GLFHxEqyXjoV",
        "colab_type": "code",
        "colab": {}
      },
      "source": [
        "train_file['data']= 'train'\n",
        "test_file['data']= 'test'\n",
        "test_file['is_promoted']= np.nan"
      ],
      "execution_count": 0,
      "outputs": []
    },
    {
      "cell_type": "code",
      "metadata": {
        "id": "K1EfL_JKYFJG",
        "colab_type": "code",
        "outputId": "93d0642e-a3ce-4509-8c5b-22b71f40fa1b",
        "colab": {
          "base_uri": "https://localhost:8080/",
          "height": 35
        }
      },
      "source": [
        "train_file.shape, test_file.shape"
      ],
      "execution_count": 0,
      "outputs": [
        {
          "output_type": "execute_result",
          "data": {
            "text/plain": [
              "((54808, 15), (23490, 15))"
            ]
          },
          "metadata": {
            "tags": []
          },
          "execution_count": 6
        }
      ]
    },
    {
      "cell_type": "code",
      "metadata": {
        "id": "7sZA7thJX3uX",
        "colab_type": "code",
        "colab": {}
      },
      "source": [
        "full= pd.concat([train_file, test_file], axis=0)"
      ],
      "execution_count": 0,
      "outputs": []
    },
    {
      "cell_type": "code",
      "metadata": {
        "id": "DiLAadfTX-s-",
        "colab_type": "code",
        "outputId": "b7b8822c-656a-41e5-be7f-6be25b788f17",
        "colab": {
          "base_uri": "https://localhost:8080/",
          "height": 295
        }
      },
      "source": [
        "full.head()"
      ],
      "execution_count": 0,
      "outputs": [
        {
          "output_type": "execute_result",
          "data": {
            "text/html": [
              "<div>\n",
              "<style scoped>\n",
              "    .dataframe tbody tr th:only-of-type {\n",
              "        vertical-align: middle;\n",
              "    }\n",
              "\n",
              "    .dataframe tbody tr th {\n",
              "        vertical-align: top;\n",
              "    }\n",
              "\n",
              "    .dataframe thead th {\n",
              "        text-align: right;\n",
              "    }\n",
              "</style>\n",
              "<table border=\"1\" class=\"dataframe\">\n",
              "  <thead>\n",
              "    <tr style=\"text-align: right;\">\n",
              "      <th></th>\n",
              "      <th>KPIs_met &gt;80%</th>\n",
              "      <th>age</th>\n",
              "      <th>avg_training_score</th>\n",
              "      <th>awards_won?</th>\n",
              "      <th>data</th>\n",
              "      <th>department</th>\n",
              "      <th>education</th>\n",
              "      <th>employee_id</th>\n",
              "      <th>gender</th>\n",
              "      <th>is_promoted</th>\n",
              "      <th>length_of_service</th>\n",
              "      <th>no_of_trainings</th>\n",
              "      <th>previous_year_rating</th>\n",
              "      <th>recruitment_channel</th>\n",
              "      <th>region</th>\n",
              "    </tr>\n",
              "  </thead>\n",
              "  <tbody>\n",
              "    <tr>\n",
              "      <th>0</th>\n",
              "      <td>1</td>\n",
              "      <td>35</td>\n",
              "      <td>49</td>\n",
              "      <td>0</td>\n",
              "      <td>train</td>\n",
              "      <td>Sales &amp; Marketing</td>\n",
              "      <td>Master's &amp; above</td>\n",
              "      <td>65438</td>\n",
              "      <td>f</td>\n",
              "      <td>0.0</td>\n",
              "      <td>8</td>\n",
              "      <td>1</td>\n",
              "      <td>5.0</td>\n",
              "      <td>sourcing</td>\n",
              "      <td>region_7</td>\n",
              "    </tr>\n",
              "    <tr>\n",
              "      <th>1</th>\n",
              "      <td>0</td>\n",
              "      <td>30</td>\n",
              "      <td>60</td>\n",
              "      <td>0</td>\n",
              "      <td>train</td>\n",
              "      <td>Operations</td>\n",
              "      <td>Bachelor's</td>\n",
              "      <td>65141</td>\n",
              "      <td>m</td>\n",
              "      <td>0.0</td>\n",
              "      <td>4</td>\n",
              "      <td>1</td>\n",
              "      <td>5.0</td>\n",
              "      <td>other</td>\n",
              "      <td>region_22</td>\n",
              "    </tr>\n",
              "    <tr>\n",
              "      <th>2</th>\n",
              "      <td>0</td>\n",
              "      <td>34</td>\n",
              "      <td>50</td>\n",
              "      <td>0</td>\n",
              "      <td>train</td>\n",
              "      <td>Sales &amp; Marketing</td>\n",
              "      <td>Bachelor's</td>\n",
              "      <td>7513</td>\n",
              "      <td>m</td>\n",
              "      <td>0.0</td>\n",
              "      <td>7</td>\n",
              "      <td>1</td>\n",
              "      <td>3.0</td>\n",
              "      <td>sourcing</td>\n",
              "      <td>region_19</td>\n",
              "    </tr>\n",
              "    <tr>\n",
              "      <th>3</th>\n",
              "      <td>0</td>\n",
              "      <td>39</td>\n",
              "      <td>50</td>\n",
              "      <td>0</td>\n",
              "      <td>train</td>\n",
              "      <td>Sales &amp; Marketing</td>\n",
              "      <td>Bachelor's</td>\n",
              "      <td>2542</td>\n",
              "      <td>m</td>\n",
              "      <td>0.0</td>\n",
              "      <td>10</td>\n",
              "      <td>2</td>\n",
              "      <td>1.0</td>\n",
              "      <td>other</td>\n",
              "      <td>region_23</td>\n",
              "    </tr>\n",
              "    <tr>\n",
              "      <th>4</th>\n",
              "      <td>0</td>\n",
              "      <td>45</td>\n",
              "      <td>73</td>\n",
              "      <td>0</td>\n",
              "      <td>train</td>\n",
              "      <td>Technology</td>\n",
              "      <td>Bachelor's</td>\n",
              "      <td>48945</td>\n",
              "      <td>m</td>\n",
              "      <td>0.0</td>\n",
              "      <td>2</td>\n",
              "      <td>1</td>\n",
              "      <td>3.0</td>\n",
              "      <td>other</td>\n",
              "      <td>region_26</td>\n",
              "    </tr>\n",
              "  </tbody>\n",
              "</table>\n",
              "</div>"
            ],
            "text/plain": [
              "   KPIs_met >80%  age  ...  recruitment_channel     region\n",
              "0              1   35  ...             sourcing   region_7\n",
              "1              0   30  ...                other  region_22\n",
              "2              0   34  ...             sourcing  region_19\n",
              "3              0   39  ...                other  region_23\n",
              "4              0   45  ...                other  region_26\n",
              "\n",
              "[5 rows x 15 columns]"
            ]
          },
          "metadata": {
            "tags": []
          },
          "execution_count": 8
        }
      ]
    },
    {
      "cell_type": "code",
      "metadata": {
        "id": "Use_3XCfYBso",
        "colab_type": "code",
        "outputId": "14e7dfc3-98da-4afa-8b2f-de3cb96129c6",
        "colab": {
          "base_uri": "https://localhost:8080/",
          "height": 35
        }
      },
      "source": [
        "full.shape"
      ],
      "execution_count": 0,
      "outputs": [
        {
          "output_type": "execute_result",
          "data": {
            "text/plain": [
              "(78298, 15)"
            ]
          },
          "metadata": {
            "tags": []
          },
          "execution_count": 9
        }
      ]
    },
    {
      "cell_type": "markdown",
      "metadata": {
        "id": "nfbxMrreUv7P",
        "colab_type": "text"
      },
      "source": [
        "## **Preprocessing steps**"
      ]
    },
    {
      "cell_type": "code",
      "metadata": {
        "id": "p8hWSx8B4Mah",
        "colab_type": "code",
        "outputId": "f5e9227c-1384-4e2b-f298-d8b36f853130",
        "colab": {
          "base_uri": "https://localhost:8080/",
          "height": 308
        }
      },
      "source": [
        "full.isnull().sum()"
      ],
      "execution_count": 0,
      "outputs": [
        {
          "output_type": "execute_result",
          "data": {
            "text/plain": [
              "KPIs_met >80%               0\n",
              "age                         0\n",
              "avg_training_score          0\n",
              "awards_won?                 0\n",
              "data                        0\n",
              "department                  0\n",
              "education                3443\n",
              "employee_id                 0\n",
              "gender                      0\n",
              "is_promoted             23490\n",
              "length_of_service           0\n",
              "no_of_trainings             0\n",
              "previous_year_rating     5936\n",
              "recruitment_channel         0\n",
              "region                      0\n",
              "dtype: int64"
            ]
          },
          "metadata": {
            "tags": []
          },
          "execution_count": 10
        }
      ]
    },
    {
      "cell_type": "markdown",
      "metadata": {
        "id": "xgEiwuDt5OHd",
        "colab_type": "text"
      },
      "source": [
        "From above, we see that **education** and **previous_year_rating** column has missing values. \n",
        "\n",
        "Let's replace the missing values using mode."
      ]
    },
    {
      "cell_type": "code",
      "metadata": {
        "id": "6UNWFPGe7y3g",
        "colab_type": "code",
        "outputId": "4565773e-acaa-414a-9732-189b1df38dbd",
        "colab": {
          "base_uri": "https://localhost:8080/",
          "height": 53
        }
      },
      "source": [
        "full['education'].mode()"
      ],
      "execution_count": 0,
      "outputs": [
        {
          "output_type": "execute_result",
          "data": {
            "text/plain": [
              "0    Bachelor's\n",
              "dtype: object"
            ]
          },
          "metadata": {
            "tags": []
          },
          "execution_count": 11
        }
      ]
    },
    {
      "cell_type": "code",
      "metadata": {
        "id": "A6GfeKb_79yD",
        "colab_type": "code",
        "outputId": "958e67c7-fae6-4ca1-8a70-89810e2a4674",
        "colab": {
          "base_uri": "https://localhost:8080/",
          "height": 53
        }
      },
      "source": [
        " full['previous_year_rating'].mode()"
      ],
      "execution_count": 0,
      "outputs": [
        {
          "output_type": "execute_result",
          "data": {
            "text/plain": [
              "0    3.0\n",
              "dtype: float64"
            ]
          },
          "metadata": {
            "tags": []
          },
          "execution_count": 12
        }
      ]
    },
    {
      "cell_type": "code",
      "metadata": {
        "id": "2DESq7fD4lc_",
        "colab_type": "code",
        "colab": {}
      },
      "source": [
        "full['education'].fillna(\"Bachelor's\", inplace=True)\n",
        "full['previous_year_rating'].fillna(3.0, inplace=True)"
      ],
      "execution_count": 0,
      "outputs": []
    },
    {
      "cell_type": "code",
      "metadata": {
        "id": "DWEBhZDB80NR",
        "colab_type": "code",
        "outputId": "c8d97cee-3063-4dd0-e567-5d88959aef8c",
        "colab": {
          "base_uri": "https://localhost:8080/",
          "height": 308
        }
      },
      "source": [
        "full.isnull().sum()"
      ],
      "execution_count": 0,
      "outputs": [
        {
          "output_type": "execute_result",
          "data": {
            "text/plain": [
              "KPIs_met >80%               0\n",
              "age                         0\n",
              "avg_training_score          0\n",
              "awards_won?                 0\n",
              "data                        0\n",
              "department                  0\n",
              "education                   0\n",
              "employee_id                 0\n",
              "gender                      0\n",
              "is_promoted             23490\n",
              "length_of_service           0\n",
              "no_of_trainings             0\n",
              "previous_year_rating        0\n",
              "recruitment_channel         0\n",
              "region                      0\n",
              "dtype: int64"
            ]
          },
          "metadata": {
            "tags": []
          },
          "execution_count": 14
        }
      ]
    },
    {
      "cell_type": "code",
      "metadata": {
        "id": "3eAxJ-LD98O8",
        "colab_type": "code",
        "colab": {}
      },
      "source": [
        "#Lets change the previous_year_rating column to INT.\n",
        "full['previous_year_rating']= full['previous_year_rating'].astype(int)"
      ],
      "execution_count": 0,
      "outputs": []
    },
    {
      "cell_type": "code",
      "metadata": {
        "id": "yiCzA_Cn9RbJ",
        "colab_type": "code",
        "outputId": "c7834aae-7d7b-449c-e869-f982e928b70b",
        "colab": {
          "base_uri": "https://localhost:8080/",
          "height": 308
        }
      },
      "source": [
        "full.dtypes"
      ],
      "execution_count": 0,
      "outputs": [
        {
          "output_type": "execute_result",
          "data": {
            "text/plain": [
              "KPIs_met >80%             int64\n",
              "age                       int64\n",
              "avg_training_score        int64\n",
              "awards_won?               int64\n",
              "data                     object\n",
              "department               object\n",
              "education                object\n",
              "employee_id               int64\n",
              "gender                   object\n",
              "is_promoted             float64\n",
              "length_of_service         int64\n",
              "no_of_trainings           int64\n",
              "previous_year_rating      int64\n",
              "recruitment_channel      object\n",
              "region                   object\n",
              "dtype: object"
            ]
          },
          "metadata": {
            "tags": []
          },
          "execution_count": 16
        }
      ]
    },
    {
      "cell_type": "markdown",
      "metadata": {
        "id": "dqqINnh6xKxA",
        "colab_type": "text"
      },
      "source": [
        "**Creating Dummies for the categorical columns..**"
      ]
    },
    {
      "cell_type": "code",
      "metadata": {
        "id": "3A2JD2Aq9W9f",
        "colab_type": "code",
        "colab": {}
      },
      "source": [
        "cat_cols= ['department', 'region', 'education', 'gender', 'recruitment_channel']"
      ],
      "execution_count": 0,
      "outputs": []
    },
    {
      "cell_type": "code",
      "metadata": {
        "id": "Pk_X7vz1-AM0",
        "colab_type": "code",
        "colab": {}
      },
      "source": [
        "for col in cat_cols:\n",
        "  k= full[col].value_counts()\n",
        "  cats= k.index[k>30][:-1]\n",
        "  for cat in cats:\n",
        "    name= col+'_'+cat\n",
        "    full[name]= (full[col]==cat).astype(int)\n",
        "  del full[col]"
      ],
      "execution_count": 0,
      "outputs": []
    },
    {
      "cell_type": "code",
      "metadata": {
        "id": "MO4edVNs_sN6",
        "colab_type": "code",
        "outputId": "43c70ee0-19b9-434c-b05e-f7375b64bf6d",
        "colab": {
          "base_uri": "https://localhost:8080/",
          "height": 243
        }
      },
      "source": [
        "full.head()"
      ],
      "execution_count": 0,
      "outputs": [
        {
          "output_type": "execute_result",
          "data": {
            "text/html": [
              "<div>\n",
              "<style scoped>\n",
              "    .dataframe tbody tr th:only-of-type {\n",
              "        vertical-align: middle;\n",
              "    }\n",
              "\n",
              "    .dataframe tbody tr th {\n",
              "        vertical-align: top;\n",
              "    }\n",
              "\n",
              "    .dataframe thead th {\n",
              "        text-align: right;\n",
              "    }\n",
              "</style>\n",
              "<table border=\"1\" class=\"dataframe\">\n",
              "  <thead>\n",
              "    <tr style=\"text-align: right;\">\n",
              "      <th></th>\n",
              "      <th>KPIs_met &gt;80%</th>\n",
              "      <th>age</th>\n",
              "      <th>avg_training_score</th>\n",
              "      <th>awards_won?</th>\n",
              "      <th>data</th>\n",
              "      <th>employee_id</th>\n",
              "      <th>is_promoted</th>\n",
              "      <th>length_of_service</th>\n",
              "      <th>no_of_trainings</th>\n",
              "      <th>previous_year_rating</th>\n",
              "      <th>department_Sales &amp; Marketing</th>\n",
              "      <th>department_Operations</th>\n",
              "      <th>department_Procurement</th>\n",
              "      <th>department_Technology</th>\n",
              "      <th>department_Analytics</th>\n",
              "      <th>department_Finance</th>\n",
              "      <th>department_HR</th>\n",
              "      <th>department_Legal</th>\n",
              "      <th>region_region_2</th>\n",
              "      <th>region_region_22</th>\n",
              "      <th>region_region_7</th>\n",
              "      <th>region_region_15</th>\n",
              "      <th>region_region_13</th>\n",
              "      <th>region_region_26</th>\n",
              "      <th>region_region_31</th>\n",
              "      <th>region_region_4</th>\n",
              "      <th>region_region_27</th>\n",
              "      <th>region_region_16</th>\n",
              "      <th>region_region_28</th>\n",
              "      <th>region_region_11</th>\n",
              "      <th>region_region_23</th>\n",
              "      <th>region_region_29</th>\n",
              "      <th>region_region_32</th>\n",
              "      <th>region_region_19</th>\n",
              "      <th>region_region_14</th>\n",
              "      <th>region_region_20</th>\n",
              "      <th>region_region_17</th>\n",
              "      <th>region_region_25</th>\n",
              "      <th>region_region_5</th>\n",
              "      <th>region_region_6</th>\n",
              "      <th>region_region_30</th>\n",
              "      <th>region_region_8</th>\n",
              "      <th>region_region_10</th>\n",
              "      <th>region_region_1</th>\n",
              "      <th>region_region_24</th>\n",
              "      <th>region_region_12</th>\n",
              "      <th>region_region_9</th>\n",
              "      <th>region_region_21</th>\n",
              "      <th>region_region_3</th>\n",
              "      <th>region_region_34</th>\n",
              "      <th>region_region_33</th>\n",
              "      <th>education_Bachelor's</th>\n",
              "      <th>education_Master's &amp; above</th>\n",
              "      <th>gender_m</th>\n",
              "      <th>recruitment_channel_other</th>\n",
              "      <th>recruitment_channel_sourcing</th>\n",
              "    </tr>\n",
              "  </thead>\n",
              "  <tbody>\n",
              "    <tr>\n",
              "      <th>0</th>\n",
              "      <td>1</td>\n",
              "      <td>35</td>\n",
              "      <td>49</td>\n",
              "      <td>0</td>\n",
              "      <td>train</td>\n",
              "      <td>65438</td>\n",
              "      <td>0.0</td>\n",
              "      <td>8</td>\n",
              "      <td>1</td>\n",
              "      <td>5</td>\n",
              "      <td>1</td>\n",
              "      <td>0</td>\n",
              "      <td>0</td>\n",
              "      <td>0</td>\n",
              "      <td>0</td>\n",
              "      <td>0</td>\n",
              "      <td>0</td>\n",
              "      <td>0</td>\n",
              "      <td>0</td>\n",
              "      <td>0</td>\n",
              "      <td>1</td>\n",
              "      <td>0</td>\n",
              "      <td>0</td>\n",
              "      <td>0</td>\n",
              "      <td>0</td>\n",
              "      <td>0</td>\n",
              "      <td>0</td>\n",
              "      <td>0</td>\n",
              "      <td>0</td>\n",
              "      <td>0</td>\n",
              "      <td>0</td>\n",
              "      <td>0</td>\n",
              "      <td>0</td>\n",
              "      <td>0</td>\n",
              "      <td>0</td>\n",
              "      <td>0</td>\n",
              "      <td>0</td>\n",
              "      <td>0</td>\n",
              "      <td>0</td>\n",
              "      <td>0</td>\n",
              "      <td>0</td>\n",
              "      <td>0</td>\n",
              "      <td>0</td>\n",
              "      <td>0</td>\n",
              "      <td>0</td>\n",
              "      <td>0</td>\n",
              "      <td>0</td>\n",
              "      <td>0</td>\n",
              "      <td>0</td>\n",
              "      <td>0</td>\n",
              "      <td>0</td>\n",
              "      <td>0</td>\n",
              "      <td>1</td>\n",
              "      <td>0</td>\n",
              "      <td>0</td>\n",
              "      <td>1</td>\n",
              "    </tr>\n",
              "    <tr>\n",
              "      <th>1</th>\n",
              "      <td>0</td>\n",
              "      <td>30</td>\n",
              "      <td>60</td>\n",
              "      <td>0</td>\n",
              "      <td>train</td>\n",
              "      <td>65141</td>\n",
              "      <td>0.0</td>\n",
              "      <td>4</td>\n",
              "      <td>1</td>\n",
              "      <td>5</td>\n",
              "      <td>0</td>\n",
              "      <td>1</td>\n",
              "      <td>0</td>\n",
              "      <td>0</td>\n",
              "      <td>0</td>\n",
              "      <td>0</td>\n",
              "      <td>0</td>\n",
              "      <td>0</td>\n",
              "      <td>0</td>\n",
              "      <td>1</td>\n",
              "      <td>0</td>\n",
              "      <td>0</td>\n",
              "      <td>0</td>\n",
              "      <td>0</td>\n",
              "      <td>0</td>\n",
              "      <td>0</td>\n",
              "      <td>0</td>\n",
              "      <td>0</td>\n",
              "      <td>0</td>\n",
              "      <td>0</td>\n",
              "      <td>0</td>\n",
              "      <td>0</td>\n",
              "      <td>0</td>\n",
              "      <td>0</td>\n",
              "      <td>0</td>\n",
              "      <td>0</td>\n",
              "      <td>0</td>\n",
              "      <td>0</td>\n",
              "      <td>0</td>\n",
              "      <td>0</td>\n",
              "      <td>0</td>\n",
              "      <td>0</td>\n",
              "      <td>0</td>\n",
              "      <td>0</td>\n",
              "      <td>0</td>\n",
              "      <td>0</td>\n",
              "      <td>0</td>\n",
              "      <td>0</td>\n",
              "      <td>0</td>\n",
              "      <td>0</td>\n",
              "      <td>0</td>\n",
              "      <td>1</td>\n",
              "      <td>0</td>\n",
              "      <td>1</td>\n",
              "      <td>1</td>\n",
              "      <td>0</td>\n",
              "    </tr>\n",
              "    <tr>\n",
              "      <th>2</th>\n",
              "      <td>0</td>\n",
              "      <td>34</td>\n",
              "      <td>50</td>\n",
              "      <td>0</td>\n",
              "      <td>train</td>\n",
              "      <td>7513</td>\n",
              "      <td>0.0</td>\n",
              "      <td>7</td>\n",
              "      <td>1</td>\n",
              "      <td>3</td>\n",
              "      <td>1</td>\n",
              "      <td>0</td>\n",
              "      <td>0</td>\n",
              "      <td>0</td>\n",
              "      <td>0</td>\n",
              "      <td>0</td>\n",
              "      <td>0</td>\n",
              "      <td>0</td>\n",
              "      <td>0</td>\n",
              "      <td>0</td>\n",
              "      <td>0</td>\n",
              "      <td>0</td>\n",
              "      <td>0</td>\n",
              "      <td>0</td>\n",
              "      <td>0</td>\n",
              "      <td>0</td>\n",
              "      <td>0</td>\n",
              "      <td>0</td>\n",
              "      <td>0</td>\n",
              "      <td>0</td>\n",
              "      <td>0</td>\n",
              "      <td>0</td>\n",
              "      <td>0</td>\n",
              "      <td>1</td>\n",
              "      <td>0</td>\n",
              "      <td>0</td>\n",
              "      <td>0</td>\n",
              "      <td>0</td>\n",
              "      <td>0</td>\n",
              "      <td>0</td>\n",
              "      <td>0</td>\n",
              "      <td>0</td>\n",
              "      <td>0</td>\n",
              "      <td>0</td>\n",
              "      <td>0</td>\n",
              "      <td>0</td>\n",
              "      <td>0</td>\n",
              "      <td>0</td>\n",
              "      <td>0</td>\n",
              "      <td>0</td>\n",
              "      <td>0</td>\n",
              "      <td>1</td>\n",
              "      <td>0</td>\n",
              "      <td>1</td>\n",
              "      <td>0</td>\n",
              "      <td>1</td>\n",
              "    </tr>\n",
              "    <tr>\n",
              "      <th>3</th>\n",
              "      <td>0</td>\n",
              "      <td>39</td>\n",
              "      <td>50</td>\n",
              "      <td>0</td>\n",
              "      <td>train</td>\n",
              "      <td>2542</td>\n",
              "      <td>0.0</td>\n",
              "      <td>10</td>\n",
              "      <td>2</td>\n",
              "      <td>1</td>\n",
              "      <td>1</td>\n",
              "      <td>0</td>\n",
              "      <td>0</td>\n",
              "      <td>0</td>\n",
              "      <td>0</td>\n",
              "      <td>0</td>\n",
              "      <td>0</td>\n",
              "      <td>0</td>\n",
              "      <td>0</td>\n",
              "      <td>0</td>\n",
              "      <td>0</td>\n",
              "      <td>0</td>\n",
              "      <td>0</td>\n",
              "      <td>0</td>\n",
              "      <td>0</td>\n",
              "      <td>0</td>\n",
              "      <td>0</td>\n",
              "      <td>0</td>\n",
              "      <td>0</td>\n",
              "      <td>0</td>\n",
              "      <td>1</td>\n",
              "      <td>0</td>\n",
              "      <td>0</td>\n",
              "      <td>0</td>\n",
              "      <td>0</td>\n",
              "      <td>0</td>\n",
              "      <td>0</td>\n",
              "      <td>0</td>\n",
              "      <td>0</td>\n",
              "      <td>0</td>\n",
              "      <td>0</td>\n",
              "      <td>0</td>\n",
              "      <td>0</td>\n",
              "      <td>0</td>\n",
              "      <td>0</td>\n",
              "      <td>0</td>\n",
              "      <td>0</td>\n",
              "      <td>0</td>\n",
              "      <td>0</td>\n",
              "      <td>0</td>\n",
              "      <td>0</td>\n",
              "      <td>1</td>\n",
              "      <td>0</td>\n",
              "      <td>1</td>\n",
              "      <td>1</td>\n",
              "      <td>0</td>\n",
              "    </tr>\n",
              "    <tr>\n",
              "      <th>4</th>\n",
              "      <td>0</td>\n",
              "      <td>45</td>\n",
              "      <td>73</td>\n",
              "      <td>0</td>\n",
              "      <td>train</td>\n",
              "      <td>48945</td>\n",
              "      <td>0.0</td>\n",
              "      <td>2</td>\n",
              "      <td>1</td>\n",
              "      <td>3</td>\n",
              "      <td>0</td>\n",
              "      <td>0</td>\n",
              "      <td>0</td>\n",
              "      <td>1</td>\n",
              "      <td>0</td>\n",
              "      <td>0</td>\n",
              "      <td>0</td>\n",
              "      <td>0</td>\n",
              "      <td>0</td>\n",
              "      <td>0</td>\n",
              "      <td>0</td>\n",
              "      <td>0</td>\n",
              "      <td>0</td>\n",
              "      <td>1</td>\n",
              "      <td>0</td>\n",
              "      <td>0</td>\n",
              "      <td>0</td>\n",
              "      <td>0</td>\n",
              "      <td>0</td>\n",
              "      <td>0</td>\n",
              "      <td>0</td>\n",
              "      <td>0</td>\n",
              "      <td>0</td>\n",
              "      <td>0</td>\n",
              "      <td>0</td>\n",
              "      <td>0</td>\n",
              "      <td>0</td>\n",
              "      <td>0</td>\n",
              "      <td>0</td>\n",
              "      <td>0</td>\n",
              "      <td>0</td>\n",
              "      <td>0</td>\n",
              "      <td>0</td>\n",
              "      <td>0</td>\n",
              "      <td>0</td>\n",
              "      <td>0</td>\n",
              "      <td>0</td>\n",
              "      <td>0</td>\n",
              "      <td>0</td>\n",
              "      <td>0</td>\n",
              "      <td>0</td>\n",
              "      <td>1</td>\n",
              "      <td>0</td>\n",
              "      <td>1</td>\n",
              "      <td>1</td>\n",
              "      <td>0</td>\n",
              "    </tr>\n",
              "  </tbody>\n",
              "</table>\n",
              "</div>"
            ],
            "text/plain": [
              "   KPIs_met >80%  age  ...  recruitment_channel_other  recruitment_channel_sourcing\n",
              "0              1   35  ...                          0                             1\n",
              "1              0   30  ...                          1                             0\n",
              "2              0   34  ...                          0                             1\n",
              "3              0   39  ...                          1                             0\n",
              "4              0   45  ...                          1                             0\n",
              "\n",
              "[5 rows x 56 columns]"
            ]
          },
          "metadata": {
            "tags": []
          },
          "execution_count": 19
        }
      ]
    },
    {
      "cell_type": "code",
      "metadata": {
        "id": "FlimaDpXHKxW",
        "colab_type": "code",
        "outputId": "39ae2e1b-8b58-4103-b0ae-024e43ba5949",
        "colab": {
          "base_uri": "https://localhost:8080/",
          "height": 35
        }
      },
      "source": [
        "full.shape"
      ],
      "execution_count": 0,
      "outputs": [
        {
          "output_type": "execute_result",
          "data": {
            "text/plain": [
              "(78298, 56)"
            ]
          },
          "metadata": {
            "tags": []
          },
          "execution_count": 20
        }
      ]
    },
    {
      "cell_type": "markdown",
      "metadata": {
        "id": "ijeDfIsjat-Y",
        "colab_type": "text"
      },
      "source": [
        "**After done with Preprocessing steps, lets split the data again back to TRAIN and TEST file**"
      ]
    },
    {
      "cell_type": "code",
      "metadata": {
        "id": "c6WoIyJlasSb",
        "colab_type": "code",
        "colab": {}
      },
      "source": [
        "train_file= full[full['data']=='train']\n",
        "del train_file['data']\n",
        "test_file= full[full['data']=='test']\n",
        "test_file.drop(['is_promoted', 'data'], axis=1, inplace=True)"
      ],
      "execution_count": 0,
      "outputs": []
    },
    {
      "cell_type": "code",
      "metadata": {
        "id": "vYJoRovqcJ8b",
        "colab_type": "code",
        "outputId": "d7dae9d0-5020-4335-b9d5-44a9e86a4683",
        "colab": {
          "base_uri": "https://localhost:8080/",
          "height": 35
        }
      },
      "source": [
        "train_file.shape, test_file.shape"
      ],
      "execution_count": 0,
      "outputs": [
        {
          "output_type": "execute_result",
          "data": {
            "text/plain": [
              "((54808, 55), (23490, 54))"
            ]
          },
          "metadata": {
            "tags": []
          },
          "execution_count": 22
        }
      ]
    },
    {
      "cell_type": "markdown",
      "metadata": {
        "id": "4mk8wD8Sw5Fg",
        "colab_type": "text"
      },
      "source": [
        "## **Exploratory Data Analysis -- EDA**"
      ]
    },
    {
      "cell_type": "code",
      "metadata": {
        "id": "0goDGKP_cyW0",
        "colab_type": "code",
        "colab": {}
      },
      "source": [
        "train= pd.read_csv('/content/train_file.csv')"
      ],
      "execution_count": 0,
      "outputs": []
    },
    {
      "cell_type": "code",
      "metadata": {
        "id": "gXqRxKDKeKBH",
        "colab_type": "code",
        "outputId": "6e6400ea-40eb-40f9-8ebd-478ac0d077a4",
        "colab": {
          "base_uri": "https://localhost:8080/",
          "height": 295
        }
      },
      "source": [
        "train.head()"
      ],
      "execution_count": 0,
      "outputs": [
        {
          "output_type": "execute_result",
          "data": {
            "text/html": [
              "<div>\n",
              "<style scoped>\n",
              "    .dataframe tbody tr th:only-of-type {\n",
              "        vertical-align: middle;\n",
              "    }\n",
              "\n",
              "    .dataframe tbody tr th {\n",
              "        vertical-align: top;\n",
              "    }\n",
              "\n",
              "    .dataframe thead th {\n",
              "        text-align: right;\n",
              "    }\n",
              "</style>\n",
              "<table border=\"1\" class=\"dataframe\">\n",
              "  <thead>\n",
              "    <tr style=\"text-align: right;\">\n",
              "      <th></th>\n",
              "      <th>employee_id</th>\n",
              "      <th>department</th>\n",
              "      <th>region</th>\n",
              "      <th>education</th>\n",
              "      <th>gender</th>\n",
              "      <th>recruitment_channel</th>\n",
              "      <th>no_of_trainings</th>\n",
              "      <th>age</th>\n",
              "      <th>previous_year_rating</th>\n",
              "      <th>length_of_service</th>\n",
              "      <th>KPIs_met &gt;80%</th>\n",
              "      <th>awards_won?</th>\n",
              "      <th>avg_training_score</th>\n",
              "      <th>is_promoted</th>\n",
              "    </tr>\n",
              "  </thead>\n",
              "  <tbody>\n",
              "    <tr>\n",
              "      <th>0</th>\n",
              "      <td>65438</td>\n",
              "      <td>Sales &amp; Marketing</td>\n",
              "      <td>region_7</td>\n",
              "      <td>Master's &amp; above</td>\n",
              "      <td>f</td>\n",
              "      <td>sourcing</td>\n",
              "      <td>1</td>\n",
              "      <td>35</td>\n",
              "      <td>5.0</td>\n",
              "      <td>8</td>\n",
              "      <td>1</td>\n",
              "      <td>0</td>\n",
              "      <td>49</td>\n",
              "      <td>0</td>\n",
              "    </tr>\n",
              "    <tr>\n",
              "      <th>1</th>\n",
              "      <td>65141</td>\n",
              "      <td>Operations</td>\n",
              "      <td>region_22</td>\n",
              "      <td>Bachelor's</td>\n",
              "      <td>m</td>\n",
              "      <td>other</td>\n",
              "      <td>1</td>\n",
              "      <td>30</td>\n",
              "      <td>5.0</td>\n",
              "      <td>4</td>\n",
              "      <td>0</td>\n",
              "      <td>0</td>\n",
              "      <td>60</td>\n",
              "      <td>0</td>\n",
              "    </tr>\n",
              "    <tr>\n",
              "      <th>2</th>\n",
              "      <td>7513</td>\n",
              "      <td>Sales &amp; Marketing</td>\n",
              "      <td>region_19</td>\n",
              "      <td>Bachelor's</td>\n",
              "      <td>m</td>\n",
              "      <td>sourcing</td>\n",
              "      <td>1</td>\n",
              "      <td>34</td>\n",
              "      <td>3.0</td>\n",
              "      <td>7</td>\n",
              "      <td>0</td>\n",
              "      <td>0</td>\n",
              "      <td>50</td>\n",
              "      <td>0</td>\n",
              "    </tr>\n",
              "    <tr>\n",
              "      <th>3</th>\n",
              "      <td>2542</td>\n",
              "      <td>Sales &amp; Marketing</td>\n",
              "      <td>region_23</td>\n",
              "      <td>Bachelor's</td>\n",
              "      <td>m</td>\n",
              "      <td>other</td>\n",
              "      <td>2</td>\n",
              "      <td>39</td>\n",
              "      <td>1.0</td>\n",
              "      <td>10</td>\n",
              "      <td>0</td>\n",
              "      <td>0</td>\n",
              "      <td>50</td>\n",
              "      <td>0</td>\n",
              "    </tr>\n",
              "    <tr>\n",
              "      <th>4</th>\n",
              "      <td>48945</td>\n",
              "      <td>Technology</td>\n",
              "      <td>region_26</td>\n",
              "      <td>Bachelor's</td>\n",
              "      <td>m</td>\n",
              "      <td>other</td>\n",
              "      <td>1</td>\n",
              "      <td>45</td>\n",
              "      <td>3.0</td>\n",
              "      <td>2</td>\n",
              "      <td>0</td>\n",
              "      <td>0</td>\n",
              "      <td>73</td>\n",
              "      <td>0</td>\n",
              "    </tr>\n",
              "  </tbody>\n",
              "</table>\n",
              "</div>"
            ],
            "text/plain": [
              "   employee_id         department  ... avg_training_score is_promoted\n",
              "0        65438  Sales & Marketing  ...                 49           0\n",
              "1        65141         Operations  ...                 60           0\n",
              "2         7513  Sales & Marketing  ...                 50           0\n",
              "3         2542  Sales & Marketing  ...                 50           0\n",
              "4        48945         Technology  ...                 73           0\n",
              "\n",
              "[5 rows x 14 columns]"
            ]
          },
          "metadata": {
            "tags": []
          },
          "execution_count": 24
        }
      ]
    },
    {
      "cell_type": "code",
      "metadata": {
        "id": "Jj5CivlnhHxr",
        "colab_type": "code",
        "outputId": "03db67d7-8e95-4332-b2c1-b4ff6da7fddc",
        "colab": {
          "base_uri": "https://localhost:8080/",
          "height": 199
        }
      },
      "source": [
        "train['department'].value_counts()"
      ],
      "execution_count": 0,
      "outputs": [
        {
          "output_type": "execute_result",
          "data": {
            "text/plain": [
              "Sales & Marketing    16840\n",
              "Operations           11348\n",
              "Procurement           7138\n",
              "Technology            7138\n",
              "Analytics             5352\n",
              "Finance               2536\n",
              "HR                    2418\n",
              "Legal                 1039\n",
              "R&D                    999\n",
              "Name: department, dtype: int64"
            ]
          },
          "metadata": {
            "tags": []
          },
          "execution_count": 25
        }
      ]
    },
    {
      "cell_type": "code",
      "metadata": {
        "id": "dPGSqxnYhRHg",
        "colab_type": "code",
        "outputId": "b2ed3dab-d64f-4c60-dd3e-0ab598158179",
        "colab": {
          "base_uri": "https://localhost:8080/",
          "height": 35
        }
      },
      "source": [
        "train['region'].value_counts().shape"
      ],
      "execution_count": 0,
      "outputs": [
        {
          "output_type": "execute_result",
          "data": {
            "text/plain": [
              "(34,)"
            ]
          },
          "metadata": {
            "tags": []
          },
          "execution_count": 26
        }
      ]
    },
    {
      "cell_type": "code",
      "metadata": {
        "id": "h0fOkA97iBiU",
        "colab_type": "code",
        "outputId": "6fed3b34-5728-48e2-88ba-69f7a6f3b9d0",
        "colab": {
          "base_uri": "https://localhost:8080/",
          "height": 90
        }
      },
      "source": [
        "train['education'].value_counts()"
      ],
      "execution_count": 0,
      "outputs": [
        {
          "output_type": "execute_result",
          "data": {
            "text/plain": [
              "Bachelor's          36669\n",
              "Master's & above    14925\n",
              "Below Secondary       805\n",
              "Name: education, dtype: int64"
            ]
          },
          "metadata": {
            "tags": []
          },
          "execution_count": 27
        }
      ]
    },
    {
      "cell_type": "code",
      "metadata": {
        "id": "GQovJlQa4Vnm",
        "colab_type": "code",
        "outputId": "9715b6d1-6ac7-4129-835f-2e00ffec8c9e",
        "colab": {
          "base_uri": "https://localhost:8080/",
          "height": 72
        }
      },
      "source": [
        "train['gender'].value_counts()"
      ],
      "execution_count": 0,
      "outputs": [
        {
          "output_type": "execute_result",
          "data": {
            "text/plain": [
              "m    38496\n",
              "f    16312\n",
              "Name: gender, dtype: int64"
            ]
          },
          "metadata": {
            "tags": []
          },
          "execution_count": 28
        }
      ]
    },
    {
      "cell_type": "code",
      "metadata": {
        "id": "aHhvLYaqidko",
        "colab_type": "code",
        "outputId": "32ca9d83-cb8d-46ba-df5d-df17de0b0b2f",
        "colab": {
          "base_uri": "https://localhost:8080/",
          "height": 90
        }
      },
      "source": [
        "train['recruitment_channel'].value_counts()"
      ],
      "execution_count": 0,
      "outputs": [
        {
          "output_type": "execute_result",
          "data": {
            "text/plain": [
              "other       30446\n",
              "sourcing    23220\n",
              "referred     1142\n",
              "Name: recruitment_channel, dtype: int64"
            ]
          },
          "metadata": {
            "tags": []
          },
          "execution_count": 29
        }
      ]
    },
    {
      "cell_type": "code",
      "metadata": {
        "id": "CcHoaUYH5nmc",
        "colab_type": "code",
        "outputId": "00b260ee-787c-4b02-f1f7-073c61e7609e",
        "colab": {
          "base_uri": "https://localhost:8080/",
          "height": 126
        }
      },
      "source": [
        "train['previous_year_rating'].value_counts()"
      ],
      "execution_count": 0,
      "outputs": [
        {
          "output_type": "execute_result",
          "data": {
            "text/plain": [
              "3.0    18618\n",
              "5.0    11741\n",
              "4.0     9877\n",
              "1.0     6223\n",
              "2.0     4225\n",
              "Name: previous_year_rating, dtype: int64"
            ]
          },
          "metadata": {
            "tags": []
          },
          "execution_count": 30
        }
      ]
    },
    {
      "cell_type": "code",
      "metadata": {
        "id": "rbWGxEHpi9Fp",
        "colab_type": "code",
        "outputId": "2aeef852-3a94-4e35-905e-51b02973f6e8",
        "colab": {
          "base_uri": "https://localhost:8080/",
          "height": 72
        }
      },
      "source": [
        "train['KPIs_met >80%'].value_counts()"
      ],
      "execution_count": 0,
      "outputs": [
        {
          "output_type": "execute_result",
          "data": {
            "text/plain": [
              "0    35517\n",
              "1    19291\n",
              "Name: KPIs_met >80%, dtype: int64"
            ]
          },
          "metadata": {
            "tags": []
          },
          "execution_count": 31
        }
      ]
    },
    {
      "cell_type": "code",
      "metadata": {
        "id": "KLGIihcl3Ty5",
        "colab_type": "code",
        "outputId": "683b5a01-dcaf-4e4b-8c3d-a4c300ed68fd",
        "colab": {
          "base_uri": "https://localhost:8080/",
          "height": 72
        }
      },
      "source": [
        "train['awards_won?'].value_counts()"
      ],
      "execution_count": 0,
      "outputs": [
        {
          "output_type": "execute_result",
          "data": {
            "text/plain": [
              "0    53538\n",
              "1     1270\n",
              "Name: awards_won?, dtype: int64"
            ]
          },
          "metadata": {
            "tags": []
          },
          "execution_count": 32
        }
      ]
    },
    {
      "cell_type": "code",
      "metadata": {
        "id": "YXVdIyi43URD",
        "colab_type": "code",
        "outputId": "32f1097e-413a-49c7-df8f-25da7fa87442",
        "colab": {
          "base_uri": "https://localhost:8080/",
          "height": 72
        }
      },
      "source": [
        "train['is_promoted'].value_counts()"
      ],
      "execution_count": 0,
      "outputs": [
        {
          "output_type": "execute_result",
          "data": {
            "text/plain": [
              "0    50140\n",
              "1     4668\n",
              "Name: is_promoted, dtype: int64"
            ]
          },
          "metadata": {
            "tags": []
          },
          "execution_count": 33
        }
      ]
    },
    {
      "cell_type": "markdown",
      "metadata": {
        "id": "B9hwHtA-L6LM",
        "colab_type": "text"
      },
      "source": [
        "## ***Feature Selection***"
      ]
    },
    {
      "cell_type": "code",
      "metadata": {
        "id": "er8blL4ZeMNb",
        "colab_type": "code",
        "colab": {}
      },
      "source": [
        "df= train_file.copy()"
      ],
      "execution_count": 0,
      "outputs": []
    },
    {
      "cell_type": "code",
      "metadata": {
        "id": "ophJcNwr_434",
        "colab_type": "code",
        "colab": {}
      },
      "source": [
        "#Importing required packages..\n",
        "from sklearn.linear_model import LogisticRegression\n",
        "from sklearn.model_selection import train_test_split\n",
        "from sklearn.metrics import accuracy_score, roc_auc_score, f1_score, classification_report\n",
        "from sklearn.ensemble import ExtraTreesClassifier\n",
        "from sklearn.feature_selection import RFE\n",
        "import matplotlib.pyplot as plt"
      ],
      "execution_count": 0,
      "outputs": []
    },
    {
      "cell_type": "code",
      "metadata": {
        "id": "tLphbYGtEMtB",
        "colab_type": "code",
        "colab": {}
      },
      "source": [
        "X= df.drop(['employee_id', 'is_promoted'], axis=1)\n",
        "Y= df['is_promoted']"
      ],
      "execution_count": 0,
      "outputs": []
    },
    {
      "cell_type": "code",
      "metadata": {
        "id": "oWuNhmGfDqTj",
        "colab_type": "code",
        "colab": {}
      },
      "source": [
        "#Splitting the data into train and test...\n",
        "X_train, X_test, Y_train, Y_test= train_test_split(X, Y, test_size=0.2, random_state=22, stratify=Y)"
      ],
      "execution_count": 0,
      "outputs": []
    },
    {
      "cell_type": "code",
      "metadata": {
        "id": "rbY0x7xUDnpk",
        "colab_type": "code",
        "colab": {}
      },
      "source": [
        "lr= LogisticRegression(class_weight={0:1., 1:50.})"
      ],
      "execution_count": 0,
      "outputs": []
    },
    {
      "cell_type": "code",
      "metadata": {
        "id": "U2sLzY98Do10",
        "colab_type": "code",
        "outputId": "a6e53167-7bdd-4751-9882-a1ff2410d1f7",
        "colab": {
          "base_uri": "https://localhost:8080/",
          "height": 108
        }
      },
      "source": [
        "lr.fit(X_train, Y_train)"
      ],
      "execution_count": 0,
      "outputs": [
        {
          "output_type": "execute_result",
          "data": {
            "text/plain": [
              "LogisticRegression(C=1.0, class_weight={0: 1.0, 1: 50.0}, dual=False,\n",
              "                   fit_intercept=True, intercept_scaling=1, l1_ratio=None,\n",
              "                   max_iter=100, multi_class='auto', n_jobs=None, penalty='l2',\n",
              "                   random_state=None, solver='lbfgs', tol=0.0001, verbose=0,\n",
              "                   warm_start=False)"
            ]
          },
          "metadata": {
            "tags": []
          },
          "execution_count": 39
        }
      ]
    },
    {
      "cell_type": "code",
      "metadata": {
        "id": "VXQMesxZD3JG",
        "colab_type": "code",
        "colab": {}
      },
      "source": [
        "predicted= lr.predict(X_test)"
      ],
      "execution_count": 0,
      "outputs": []
    },
    {
      "cell_type": "code",
      "metadata": {
        "id": "cROHx-lDEjZM",
        "colab_type": "code",
        "outputId": "6a55c42d-6b33-4ba3-fe6e-1a6ac724f5e4",
        "colab": {
          "base_uri": "https://localhost:8080/",
          "height": 35
        }
      },
      "source": [
        "roc_auc_score(Y_test, predicted) , accuracy_score(Y_test, predicted)"
      ],
      "execution_count": 0,
      "outputs": [
        {
          "output_type": "execute_result",
          "data": {
            "text/plain": [
              "(0.7558207468766256, 0.5692391899288451)"
            ]
          },
          "metadata": {
            "tags": []
          },
          "execution_count": 41
        }
      ]
    },
    {
      "cell_type": "markdown",
      "metadata": {
        "id": "H7VQe_kKxfM4",
        "colab_type": "text"
      },
      "source": [
        "We see that by using all the available features we get a **ROC_AUC_SCORE of 75%**.\n",
        "\n",
        "Now lets look at a **Feature Importance plot** highlighting the top 15 important features to predict our target variable."
      ]
    },
    {
      "cell_type": "code",
      "metadata": {
        "id": "lSRKPt3sE4V2",
        "colab_type": "code",
        "colab": {}
      },
      "source": [
        "et= ExtraTreesClassifier(class_weight={0:1., 1:50.})"
      ],
      "execution_count": 0,
      "outputs": []
    },
    {
      "cell_type": "code",
      "metadata": {
        "id": "VvXJjJ-4FUqA",
        "colab_type": "code",
        "outputId": "9198f75b-7b91-4e4b-9a07-978b3fcd2e12",
        "colab": {
          "base_uri": "https://localhost:8080/",
          "height": 162
        }
      },
      "source": [
        "et.fit(X_train, Y_train)"
      ],
      "execution_count": 0,
      "outputs": [
        {
          "output_type": "execute_result",
          "data": {
            "text/plain": [
              "ExtraTreesClassifier(bootstrap=False, ccp_alpha=0.0,\n",
              "                     class_weight={0: 1.0, 1: 50.0}, criterion='gini',\n",
              "                     max_depth=None, max_features='auto', max_leaf_nodes=None,\n",
              "                     max_samples=None, min_impurity_decrease=0.0,\n",
              "                     min_impurity_split=None, min_samples_leaf=1,\n",
              "                     min_samples_split=2, min_weight_fraction_leaf=0.0,\n",
              "                     n_estimators=100, n_jobs=None, oob_score=False,\n",
              "                     random_state=None, verbose=0, warm_start=False)"
            ]
          },
          "metadata": {
            "tags": []
          },
          "execution_count": 43
        }
      ]
    },
    {
      "cell_type": "code",
      "metadata": {
        "id": "T5ODLXGtGtHP",
        "colab_type": "code",
        "outputId": "7e7d1639-0b3a-44e4-d3d5-baa34acb6d1e",
        "colab": {
          "base_uri": "https://localhost:8080/",
          "height": 374
        }
      },
      "source": [
        "feat_importance= pd.Series(et.feature_importances_, index=X_train.columns)\n",
        "feat_importance.nlargest(15).plot(kind='barh', figsize=(15,6))\n",
        "plt.show()"
      ],
      "execution_count": 0,
      "outputs": [
        {
          "output_type": "display_data",
          "data": {
            "image/png": "[encoded data removed]",
            "text/plain": [
              "<Figure size 1080x432 with 1 Axes>"
            ]
          },
          "metadata": {
            "tags": []
          }
        }
      ]
    },
    {
      "cell_type": "markdown",
      "metadata": {
        "id": "B72hJrESzliv",
        "colab_type": "text"
      },
      "source": [
        "Now lets use **Recursive Feature Elimination** method to eliminate the features which doesn't contribute much in predicting our Target variable."
      ]
    },
    {
      "cell_type": "code",
      "metadata": {
        "id": "o2Lw4rAHLgSn",
        "colab_type": "code",
        "colab": {}
      },
      "source": [
        "rfe= RFE(lr, 10)\n",
        "fit= rfe.fit(X_train, Y_train)"
      ],
      "execution_count": 0,
      "outputs": []
    },
    {
      "cell_type": "code",
      "metadata": {
        "id": "NeLm_0WnMebI",
        "colab_type": "code",
        "outputId": "622497f4-aca1-4ce8-9093-2de865121c80",
        "colab": {
          "base_uri": "https://localhost:8080/",
          "height": 90
        }
      },
      "source": [
        "print('Num features: %d' %fit.n_features_)\n",
        "print('Feature Ranking: %s' %fit.ranking_)"
      ],
      "execution_count": 0,
      "outputs": [
        {
          "output_type": "stream",
          "text": [
            "Num features: 10\n",
            "Feature Ranking: [ 1 42 33  1 44 26 10 31 36 25 12 27 35  9  3 17 38 37 14 20 13  5 21 15\n",
            " 11 30  2 34  1  1  8 39  1 32 24  6  1 16 18 19 41  4  7  1  1 40  1  1\n",
            " 28 29 43 23 22]\n"
          ],
          "name": "stdout"
        }
      ]
    },
    {
      "cell_type": "markdown",
      "metadata": {
        "id": "yn7yJOMINua3",
        "colab_type": "text"
      },
      "source": [
        "Here we took Linear Regression model with 10 features and RFE gave feature ranking as above, but the selection of number 7 was random.\n",
        "\n",
        "Now we need to find the optimum number of features, for which the accuracy is highest. We do that by using loop starting with 1 feature and going up to 55.\n",
        "\n",
        "We then take the one for which the accuracy is highest."
      ]
    },
    {
      "cell_type": "code",
      "metadata": {
        "id": "TqCcRWMUNrXa",
        "colab_type": "code",
        "outputId": "2c9254ab-75d9-43ec-c47c-59343546e421",
        "colab": {
          "base_uri": "https://localhost:8080/",
          "height": 53
        }
      },
      "source": [
        "#No. of features\n",
        "nof_list= np.arange(1,55)\n",
        "high_score= 0\n",
        "#Variable to store the optimum features.\n",
        "nof=10\n",
        "score_list= []\n",
        "for n in range(len(nof_list)):\n",
        "  model= LogisticRegression(class_weight={0:1., 1:50.})\n",
        "  rfe= RFE(model, nof_list[n])\n",
        "  X_train_rfe= rfe.fit_transform(X_train, Y_train)\n",
        "  X_test_rfe= rfe.transform(X_test)\n",
        "  model.fit(X_train_rfe, Y_train)\n",
        "  score= model.score(X_test_rfe, Y_test)\n",
        "  score_list.append(score)\n",
        "  if (score>high_score):\n",
        "    high_score= score\n",
        "    nof= nof_list[n]\n",
        "\n",
        "print('Optimum num of features: %d' %nof)\n",
        "print('Score with %d features: %f' %(nof, high_score))"
      ],
      "execution_count": 0,
      "outputs": [
        {
          "output_type": "stream",
          "text": [
            "Optimum num of features: 44\n",
            "Score with 44 features: 0.598248\n"
          ],
          "name": "stdout"
        }
      ]
    },
    {
      "cell_type": "markdown",
      "metadata": {
        "id": "Hi4sFiD5VKU9",
        "colab_type": "text"
      },
      "source": [
        "We now feed 44 as the number of features to RFE and get the final set of features given by RFE method, as follows:"
      ]
    },
    {
      "cell_type": "code",
      "metadata": {
        "id": "K8K6nl-0NrVj",
        "colab_type": "code",
        "outputId": "f86fc118-8da9-4643-ba34-33f8c845dd91",
        "colab": {
          "base_uri": "https://localhost:8080/",
          "height": 326
        }
      },
      "source": [
        "cols= list(X.columns)\n",
        "model= LogisticRegression(class_weight={0:1., 1:50.})\n",
        "\n",
        "#Initializing RFE model..\n",
        "rfe= RFE(model, 44)\n",
        "\n",
        "#Transforming data using RFE\n",
        "X_rfe= rfe.fit_transform(X_train, Y_train)\n",
        "\n",
        "#Fitting the data to model..\n",
        "model.fit(X_rfe, Y_train)\n",
        "temp= pd.Series(rfe.support_, index=cols)\n",
        "selected_features_rfe= temp[temp==True].index\n",
        "print(selected_features_rfe)"
      ],
      "execution_count": 0,
      "outputs": [
        {
          "output_type": "stream",
          "text": [
            "Index(['KPIs_met >80%', 'avg_training_score', 'awards_won?', 'no_of_trainings',\n",
            "       'previous_year_rating', 'department_Sales & Marketing',\n",
            "       'department_Procurement', 'department_Technology',\n",
            "       'department_Analytics', 'department_Finance', 'department_HR',\n",
            "       'department_Legal', 'region_region_2', 'region_region_15',\n",
            "       'region_region_13', 'region_region_26', 'region_region_31',\n",
            "       'region_region_4', 'region_region_27', 'region_region_16',\n",
            "       'region_region_28', 'region_region_11', 'region_region_23',\n",
            "       'region_region_29', 'region_region_32', 'region_region_19',\n",
            "       'region_region_20', 'region_region_17', 'region_region_25',\n",
            "       'region_region_5', 'region_region_6', 'region_region_30',\n",
            "       'region_region_8', 'region_region_10', 'region_region_24',\n",
            "       'region_region_12', 'region_region_9', 'region_region_21',\n",
            "       'region_region_34', 'region_region_33', 'education_Bachelor's',\n",
            "       'education_Master's & above', 'recruitment_channel_other',\n",
            "       'recruitment_channel_sourcing'],\n",
            "      dtype='object')\n"
          ],
          "name": "stdout"
        }
      ]
    },
    {
      "cell_type": "markdown",
      "metadata": {
        "id": "Y91XGRbIbhHL",
        "colab_type": "text"
      },
      "source": [
        "Hence, we conclude that the above **44** features would be used in our Model builing process."
      ]
    },
    {
      "cell_type": "markdown",
      "metadata": {
        "id": "gwixJJxwWfG_",
        "colab_type": "text"
      },
      "source": [
        "## ***Model Building***"
      ]
    },
    {
      "cell_type": "markdown",
      "metadata": {
        "id": "Gp6QNu_Vz3oQ",
        "colab_type": "text"
      },
      "source": [
        "### **Using Logistic Regression**"
      ]
    },
    {
      "cell_type": "code",
      "metadata": {
        "id": "PsxkdCgFLFOg",
        "colab_type": "code",
        "colab": {}
      },
      "source": [
        "X_rfe= df[selected_features_rfe]\n",
        "Y_rfe= df['is_promoted']"
      ],
      "execution_count": 0,
      "outputs": []
    },
    {
      "cell_type": "code",
      "metadata": {
        "id": "zBFA1tviGwUu",
        "colab_type": "code",
        "colab": {}
      },
      "source": [
        "#Splitting the data into TRAIN and TEST...\n",
        "X_train_rfe, X_test_rfe, Y_train_rfe, Y_test_rfe= train_test_split(X_rfe, Y_rfe, test_size=0.2, random_state=11, stratify=Y_rfe)"
      ],
      "execution_count": 0,
      "outputs": []
    },
    {
      "cell_type": "code",
      "metadata": {
        "id": "S5wCWWLNXFNg",
        "colab_type": "code",
        "colab": {}
      },
      "source": [
        "lr= LogisticRegression(class_weight={0:1., 1:50.})"
      ],
      "execution_count": 0,
      "outputs": []
    },
    {
      "cell_type": "code",
      "metadata": {
        "id": "JId2zm5NXh7y",
        "colab_type": "code",
        "outputId": "1a9938bf-d86e-48f3-9971-d35d0e6590e0",
        "colab": {
          "base_uri": "https://localhost:8080/",
          "height": 108
        }
      },
      "source": [
        "lr.fit(X_train_rfe, Y_train_rfe)"
      ],
      "execution_count": 0,
      "outputs": [
        {
          "output_type": "execute_result",
          "data": {
            "text/plain": [
              "LogisticRegression(C=1.0, class_weight={0: 1.0, 1: 50.0}, dual=False,\n",
              "                   fit_intercept=True, intercept_scaling=1, l1_ratio=None,\n",
              "                   max_iter=100, multi_class='auto', n_jobs=None, penalty='l2',\n",
              "                   random_state=None, solver='lbfgs', tol=0.0001, verbose=0,\n",
              "                   warm_start=False)"
            ]
          },
          "metadata": {
            "tags": []
          },
          "execution_count": 49
        }
      ]
    },
    {
      "cell_type": "code",
      "metadata": {
        "id": "OV_DvcNfXoFE",
        "colab_type": "code",
        "outputId": "13b6a8d9-5910-4d5b-f045-e34c4ef28482",
        "colab": {
          "base_uri": "https://localhost:8080/",
          "height": 35
        }
      },
      "source": [
        "predicted_rfe= lr.predict(X_test_rfe)\n",
        "predicted_rfe"
      ],
      "execution_count": 0,
      "outputs": [
        {
          "output_type": "execute_result",
          "data": {
            "text/plain": [
              "array([1., 1., 1., ..., 0., 0., 0.])"
            ]
          },
          "metadata": {
            "tags": []
          },
          "execution_count": 50
        }
      ]
    },
    {
      "cell_type": "code",
      "metadata": {
        "id": "yOpJyFKaX3Vd",
        "colab_type": "code",
        "outputId": "5f11252b-f613-4c54-d2ee-d77c3d170162",
        "colab": {
          "base_uri": "https://localhost:8080/",
          "height": 35
        }
      },
      "source": [
        "roc_auc_score(Y_test_rfe, predicted_rfe), accuracy_score(Y_test_rfe, predicted_rfe)"
      ],
      "execution_count": 0,
      "outputs": [
        {
          "output_type": "execute_result",
          "data": {
            "text/plain": [
              "(0.7593083050541993, 0.5720671410326583)"
            ]
          },
          "metadata": {
            "tags": []
          },
          "execution_count": 51
        }
      ]
    },
    {
      "cell_type": "markdown",
      "metadata": {
        "id": "dTQ4rxA61skv",
        "colab_type": "text"
      },
      "source": [
        "### **Using Random Forest**"
      ]
    },
    {
      "cell_type": "code",
      "metadata": {
        "id": "QcAdNjooYBGF",
        "colab_type": "code",
        "colab": {}
      },
      "source": [
        "#Importing required packages..\n",
        "from sklearn.ensemble import RandomForestClassifier\n",
        "from sklearn.model_selection import RandomizedSearchCV"
      ],
      "execution_count": 0,
      "outputs": []
    },
    {
      "cell_type": "code",
      "metadata": {
        "id": "bjbVnOzu2Kin",
        "colab_type": "code",
        "colab": {}
      },
      "source": [
        "rf= RandomForestClassifier(verbose=1, n_jobs=-1, random_state=10, class_weight={0:1., 1:50.})"
      ],
      "execution_count": 0,
      "outputs": []
    },
    {
      "cell_type": "code",
      "metadata": {
        "id": "gtaHc0b25U6v",
        "colab_type": "code",
        "colab": {}
      },
      "source": [
        "params= {\n",
        "    'n_estimators': [500,700,900],\n",
        "    'bootstrap': [True, False],\n",
        "    'max_depth': [None, 2,5,7],\n",
        "    'min_samples_split': [12,15,18,20],\n",
        "    'min_samples_leaf': [3,5,7,9],\n",
        "    'max_features': [12,16,20,25]\n",
        "}"
      ],
      "execution_count": 0,
      "outputs": []
    },
    {
      "cell_type": "code",
      "metadata": {
        "id": "XGR_cpaB50Bw",
        "colab_type": "code",
        "colab": {}
      },
      "source": [
        "random_search= RandomizedSearchCV(rf, cv=5, param_distributions=params, n_iter=10, scoring='roc_auc')"
      ],
      "execution_count": 0,
      "outputs": []
    },
    {
      "cell_type": "code",
      "metadata": {
        "id": "sccni3fX5_Az",
        "colab_type": "code",
        "outputId": "b3393ac9-e753-42e3-f0c8-a918f70e37ed",
        "colab": {
          "base_uri": "https://localhost:8080/",
          "height": 1000
        }
      },
      "source": [
        "random_search.fit(X_train_rfe, Y_train_rfe)"
      ],
      "execution_count": 0,
      "outputs": [
        {
          "output_type": "stream",
          "text": [
            "[Parallel(n_jobs=-1)]: Using backend LokyBackend with 2 concurrent workers.\n",
            "[Parallel(n_jobs=-1)]: Done 164 tasks      | elapsed:    2.6s\n",
            "[Parallel(n_jobs=-1)]: Done 700 out of 700 | elapsed:   10.8s finished\n",
            "[Parallel(n_jobs=2)]: Using backend ThreadingBackend with 2 concurrent workers.\n",
            "[Parallel(n_jobs=2)]: Done  46 tasks      | elapsed:    0.0s\n",
            "[Parallel(n_jobs=2)]: Done 196 tasks      | elapsed:    0.1s\n",
            "[Parallel(n_jobs=2)]: Done 446 tasks      | elapsed:    0.3s\n",
            "[Parallel(n_jobs=2)]: Done 700 out of 700 | elapsed:    0.5s finished\n",
            "[Parallel(n_jobs=-1)]: Using backend LokyBackend with 2 concurrent workers.\n",
            "[Parallel(n_jobs=-1)]: Done 300 tasks      | elapsed:    4.6s\n",
            "[Parallel(n_jobs=-1)]: Done 700 out of 700 | elapsed:   10.5s finished\n",
            "[Parallel(n_jobs=2)]: Using backend ThreadingBackend with 2 concurrent workers.\n",
            "[Parallel(n_jobs=2)]: Done  46 tasks      | elapsed:    0.0s\n",
            "[Parallel(n_jobs=2)]: Done 196 tasks      | elapsed:    0.1s\n",
            "[Parallel(n_jobs=2)]: Done 446 tasks      | elapsed:    0.3s\n",
            "[Parallel(n_jobs=2)]: Done 700 out of 700 | elapsed:    0.5s finished\n",
            "[Parallel(n_jobs=-1)]: Using backend LokyBackend with 2 concurrent workers.\n",
            "[Parallel(n_jobs=-1)]: Done 292 tasks      | elapsed:    4.4s\n",
            "[Parallel(n_jobs=-1)]: Done 700 out of 700 | elapsed:   10.6s finished\n",
            "[Parallel(n_jobs=2)]: Using backend ThreadingBackend with 2 concurrent workers.\n",
            "[Parallel(n_jobs=2)]: Done  46 tasks      | elapsed:    0.0s\n",
            "[Parallel(n_jobs=2)]: Done 196 tasks      | elapsed:    0.1s\n",
            "[Parallel(n_jobs=2)]: Done 446 tasks      | elapsed:    0.3s\n",
            "[Parallel(n_jobs=2)]: Done 700 out of 700 | elapsed:    0.5s finished\n",
            "[Parallel(n_jobs=-1)]: Using backend LokyBackend with 2 concurrent workers.\n",
            "[Parallel(n_jobs=-1)]: Done 300 tasks      | elapsed:    4.6s\n",
            "[Parallel(n_jobs=-1)]: Done 700 out of 700 | elapsed:   10.6s finished\n",
            "[Parallel(n_jobs=2)]: Using backend ThreadingBackend with 2 concurrent workers.\n",
            "[Parallel(n_jobs=2)]: Done  46 tasks      | elapsed:    0.0s\n",
            "[Parallel(n_jobs=2)]: Done 196 tasks      | elapsed:    0.1s\n",
            "[Parallel(n_jobs=2)]: Done 446 tasks      | elapsed:    0.3s\n",
            "[Parallel(n_jobs=2)]: Done 700 out of 700 | elapsed:    0.5s finished\n",
            "[Parallel(n_jobs=-1)]: Using backend LokyBackend with 2 concurrent workers.\n",
            "[Parallel(n_jobs=-1)]: Done 300 tasks      | elapsed:    4.6s\n",
            "[Parallel(n_jobs=-1)]: Done 700 out of 700 | elapsed:   10.6s finished\n",
            "[Parallel(n_jobs=2)]: Using backend ThreadingBackend with 2 concurrent workers.\n",
            "[Parallel(n_jobs=2)]: Done  46 tasks      | elapsed:    0.0s\n",
            "[Parallel(n_jobs=2)]: Done 196 tasks      | elapsed:    0.1s\n",
            "[Parallel(n_jobs=2)]: Done 446 tasks      | elapsed:    0.3s\n",
            "[Parallel(n_jobs=2)]: Done 700 out of 700 | elapsed:    0.5s finished\n",
            "[Parallel(n_jobs=-1)]: Using backend LokyBackend with 2 concurrent workers.\n",
            "[Parallel(n_jobs=-1)]: Done 300 tasks      | elapsed:    2.5s\n",
            "[Parallel(n_jobs=-1)]: Done 700 out of 700 | elapsed:    5.7s finished\n",
            "[Parallel(n_jobs=2)]: Using backend ThreadingBackend with 2 concurrent workers.\n",
            "[Parallel(n_jobs=2)]: Done  46 tasks      | elapsed:    0.0s\n",
            "[Parallel(n_jobs=2)]: Done 196 tasks      | elapsed:    0.1s\n",
            "[Parallel(n_jobs=2)]: Done 446 tasks      | elapsed:    0.3s\n",
            "[Parallel(n_jobs=2)]: Done 700 out of 700 | elapsed:    0.4s finished\n",
            "[Parallel(n_jobs=-1)]: Using backend LokyBackend with 2 concurrent workers.\n",
            "[Parallel(n_jobs=-1)]: Done 540 tasks      | elapsed:    4.4s\n",
            "[Parallel(n_jobs=-1)]: Done 700 out of 700 | elapsed:    5.6s finished\n",
            "[Parallel(n_jobs=2)]: Using backend ThreadingBackend with 2 concurrent workers.\n",
            "[Parallel(n_jobs=2)]: Done  46 tasks      | elapsed:    0.0s\n",
            "[Parallel(n_jobs=2)]: Done 196 tasks      | elapsed:    0.1s\n",
            "[Parallel(n_jobs=2)]: Done 446 tasks      | elapsed:    0.3s\n",
            "[Parallel(n_jobs=2)]: Done 700 out of 700 | elapsed:    0.5s finished\n",
            "[Parallel(n_jobs=-1)]: Using backend LokyBackend with 2 concurrent workers.\n",
            "[Parallel(n_jobs=-1)]: Done 540 tasks      | elapsed:    4.3s\n",
            "[Parallel(n_jobs=-1)]: Done 700 out of 700 | elapsed:    5.5s finished\n",
            "[Parallel(n_jobs=2)]: Using backend ThreadingBackend with 2 concurrent workers.\n",
            "[Parallel(n_jobs=2)]: Done  46 tasks      | elapsed:    0.0s\n",
            "[Parallel(n_jobs=2)]: Done 196 tasks      | elapsed:    0.1s\n",
            "[Parallel(n_jobs=2)]: Done 446 tasks      | elapsed:    0.3s\n",
            "[Parallel(n_jobs=2)]: Done 700 out of 700 | elapsed:    0.4s finished\n",
            "[Parallel(n_jobs=-1)]: Using backend LokyBackend with 2 concurrent workers.\n",
            "[Parallel(n_jobs=-1)]: Done 540 tasks      | elapsed:    4.3s\n",
            "[Parallel(n_jobs=-1)]: Done 700 out of 700 | elapsed:    5.4s finished\n",
            "[Parallel(n_jobs=2)]: Using backend ThreadingBackend with 2 concurrent workers.\n",
            "[Parallel(n_jobs=2)]: Done  46 tasks      | elapsed:    0.0s\n",
            "[Parallel(n_jobs=2)]: Done 196 tasks      | elapsed:    0.1s\n",
            "[Parallel(n_jobs=2)]: Done 446 tasks      | elapsed:    0.3s\n",
            "[Parallel(n_jobs=2)]: Done 700 out of 700 | elapsed:    0.4s finished\n",
            "[Parallel(n_jobs=-1)]: Using backend LokyBackend with 2 concurrent workers.\n",
            "[Parallel(n_jobs=-1)]: Done 540 tasks      | elapsed:    4.3s\n",
            "[Parallel(n_jobs=-1)]: Done 700 out of 700 | elapsed:    5.5s finished\n",
            "[Parallel(n_jobs=2)]: Using backend ThreadingBackend with 2 concurrent workers.\n",
            "[Parallel(n_jobs=2)]: Done  46 tasks      | elapsed:    0.0s\n",
            "[Parallel(n_jobs=2)]: Done 196 tasks      | elapsed:    0.1s\n",
            "[Parallel(n_jobs=2)]: Done 446 tasks      | elapsed:    0.3s\n",
            "[Parallel(n_jobs=2)]: Done 700 out of 700 | elapsed:    0.4s finished\n",
            "[Parallel(n_jobs=-1)]: Using backend LokyBackend with 2 concurrent workers.\n",
            "[Parallel(n_jobs=-1)]: Done 164 tasks      | elapsed:    2.6s\n",
            "[Parallel(n_jobs=-1)]: Done 500 out of 500 | elapsed:    7.8s finished\n",
            "[Parallel(n_jobs=2)]: Using backend ThreadingBackend with 2 concurrent workers.\n",
            "[Parallel(n_jobs=2)]: Done  46 tasks      | elapsed:    0.0s\n",
            "[Parallel(n_jobs=2)]: Done 196 tasks      | elapsed:    0.1s\n",
            "[Parallel(n_jobs=2)]: Done 446 tasks      | elapsed:    0.3s\n",
            "[Parallel(n_jobs=2)]: Done 500 out of 500 | elapsed:    0.3s finished\n",
            "[Parallel(n_jobs=-1)]: Using backend LokyBackend with 2 concurrent workers.\n",
            "[Parallel(n_jobs=-1)]: Done 300 tasks      | elapsed:    4.6s\n",
            "[Parallel(n_jobs=-1)]: Done 500 out of 500 | elapsed:    7.6s finished\n",
            "[Parallel(n_jobs=2)]: Using backend ThreadingBackend with 2 concurrent workers.\n",
            "[Parallel(n_jobs=2)]: Done  46 tasks      | elapsed:    0.0s\n",
            "[Parallel(n_jobs=2)]: Done 196 tasks      | elapsed:    0.1s\n",
            "[Parallel(n_jobs=2)]: Done 446 tasks      | elapsed:    0.3s\n",
            "[Parallel(n_jobs=2)]: Done 500 out of 500 | elapsed:    0.3s finished\n",
            "[Parallel(n_jobs=-1)]: Using backend LokyBackend with 2 concurrent workers.\n",
            "[Parallel(n_jobs=-1)]: Done 300 tasks      | elapsed:    4.6s\n",
            "[Parallel(n_jobs=-1)]: Done 500 out of 500 | elapsed:    7.6s finished\n",
            "[Parallel(n_jobs=2)]: Using backend ThreadingBackend with 2 concurrent workers.\n",
            "[Parallel(n_jobs=2)]: Done  46 tasks      | elapsed:    0.0s\n",
            "[Parallel(n_jobs=2)]: Done 196 tasks      | elapsed:    0.1s\n",
            "[Parallel(n_jobs=2)]: Done 446 tasks      | elapsed:    0.3s\n",
            "[Parallel(n_jobs=2)]: Done 500 out of 500 | elapsed:    0.4s finished\n",
            "[Parallel(n_jobs=-1)]: Using backend LokyBackend with 2 concurrent workers.\n",
            "[Parallel(n_jobs=-1)]: Done 164 tasks      | elapsed:    2.6s\n",
            "[Parallel(n_jobs=-1)]: Done 500 out of 500 | elapsed:    7.8s finished\n",
            "[Parallel(n_jobs=2)]: Using backend ThreadingBackend with 2 concurrent workers.\n",
            "[Parallel(n_jobs=2)]: Done  46 tasks      | elapsed:    0.0s\n",
            "[Parallel(n_jobs=2)]: Done 196 tasks      | elapsed:    0.1s\n",
            "[Parallel(n_jobs=2)]: Done 446 tasks      | elapsed:    0.3s\n",
            "[Parallel(n_jobs=2)]: Done 500 out of 500 | elapsed:    0.4s finished\n",
            "[Parallel(n_jobs=-1)]: Using backend LokyBackend with 2 concurrent workers.\n",
            "[Parallel(n_jobs=-1)]: Done 300 tasks      | elapsed:    4.6s\n",
            "[Parallel(n_jobs=-1)]: Done 500 out of 500 | elapsed:    7.6s finished\n",
            "[Parallel(n_jobs=2)]: Using backend ThreadingBackend with 2 concurrent workers.\n",
            "[Parallel(n_jobs=2)]: Done  46 tasks      | elapsed:    0.0s\n",
            "[Parallel(n_jobs=2)]: Done 196 tasks      | elapsed:    0.1s\n",
            "[Parallel(n_jobs=2)]: Done 446 tasks      | elapsed:    0.3s\n",
            "[Parallel(n_jobs=2)]: Done 500 out of 500 | elapsed:    0.4s finished\n",
            "[Parallel(n_jobs=-1)]: Using backend LokyBackend with 2 concurrent workers.\n",
            "[Parallel(n_jobs=-1)]: Done 300 tasks      | elapsed:    3.6s\n",
            "[Parallel(n_jobs=-1)]: Done 500 out of 500 | elapsed:    5.9s finished\n",
            "[Parallel(n_jobs=2)]: Using backend ThreadingBackend with 2 concurrent workers.\n",
            "[Parallel(n_jobs=2)]: Done  46 tasks      | elapsed:    0.0s\n",
            "[Parallel(n_jobs=2)]: Done 196 tasks      | elapsed:    0.1s\n",
            "[Parallel(n_jobs=2)]: Done 446 tasks      | elapsed:    0.3s\n",
            "[Parallel(n_jobs=2)]: Done 500 out of 500 | elapsed:    0.4s finished\n",
            "[Parallel(n_jobs=-1)]: Using backend LokyBackend with 2 concurrent workers.\n",
            "[Parallel(n_jobs=-1)]: Done 300 tasks      | elapsed:    3.6s\n",
            "[Parallel(n_jobs=-1)]: Done 500 out of 500 | elapsed:    5.9s finished\n",
            "[Parallel(n_jobs=2)]: Using backend ThreadingBackend with 2 concurrent workers.\n",
            "[Parallel(n_jobs=2)]: Done  46 tasks      | elapsed:    0.0s\n",
            "[Parallel(n_jobs=2)]: Done 196 tasks      | elapsed:    0.1s\n",
            "[Parallel(n_jobs=2)]: Done 446 tasks      | elapsed:    0.3s\n",
            "[Parallel(n_jobs=2)]: Done 500 out of 500 | elapsed:    0.4s finished\n",
            "[Parallel(n_jobs=-1)]: Using backend LokyBackend with 2 concurrent workers.\n",
            "[Parallel(n_jobs=-1)]: Done 300 tasks      | elapsed:    3.6s\n",
            "[Parallel(n_jobs=-1)]: Done 500 out of 500 | elapsed:    5.9s finished\n",
            "[Parallel(n_jobs=2)]: Using backend ThreadingBackend with 2 concurrent workers.\n",
            "[Parallel(n_jobs=2)]: Done  46 tasks      | elapsed:    0.0s\n",
            "[Parallel(n_jobs=2)]: Done 196 tasks      | elapsed:    0.1s\n",
            "[Parallel(n_jobs=2)]: Done 446 tasks      | elapsed:    0.3s\n",
            "[Parallel(n_jobs=2)]: Done 500 out of 500 | elapsed:    0.3s finished\n",
            "[Parallel(n_jobs=-1)]: Using backend LokyBackend with 2 concurrent workers.\n",
            "[Parallel(n_jobs=-1)]: Done 300 tasks      | elapsed:    3.6s\n",
            "[Parallel(n_jobs=-1)]: Done 500 out of 500 | elapsed:    6.0s finished\n",
            "[Parallel(n_jobs=2)]: Using backend ThreadingBackend with 2 concurrent workers.\n",
            "[Parallel(n_jobs=2)]: Done  46 tasks      | elapsed:    0.0s\n",
            "[Parallel(n_jobs=2)]: Done 196 tasks      | elapsed:    0.1s\n",
            "[Parallel(n_jobs=2)]: Done 446 tasks      | elapsed:    0.3s\n",
            "[Parallel(n_jobs=2)]: Done 500 out of 500 | elapsed:    0.3s finished\n",
            "[Parallel(n_jobs=-1)]: Using backend LokyBackend with 2 concurrent workers.\n",
            "[Parallel(n_jobs=-1)]: Done 300 tasks      | elapsed:    3.6s\n",
            "[Parallel(n_jobs=-1)]: Done 500 out of 500 | elapsed:    5.9s finished\n",
            "[Parallel(n_jobs=2)]: Using backend ThreadingBackend with 2 concurrent workers.\n",
            "[Parallel(n_jobs=2)]: Done  46 tasks      | elapsed:    0.0s\n",
            "[Parallel(n_jobs=2)]: Done 196 tasks      | elapsed:    0.1s\n",
            "[Parallel(n_jobs=2)]: Done 446 tasks      | elapsed:    0.3s\n",
            "[Parallel(n_jobs=2)]: Done 500 out of 500 | elapsed:    0.3s finished\n",
            "[Parallel(n_jobs=-1)]: Using backend LokyBackend with 2 concurrent workers.\n",
            "[Parallel(n_jobs=-1)]: Done  88 tasks      | elapsed:    5.9s\n",
            "[Parallel(n_jobs=-1)]: Done 388 tasks      | elapsed:   25.8s\n",
            "[Parallel(n_jobs=-1)]: Done 888 tasks      | elapsed:   59.3s\n",
            "[Parallel(n_jobs=-1)]: Done 900 out of 900 | elapsed:  1.0min finished\n",
            "[Parallel(n_jobs=2)]: Using backend ThreadingBackend with 2 concurrent workers.\n",
            "[Parallel(n_jobs=2)]: Done  46 tasks      | elapsed:    0.1s\n",
            "[Parallel(n_jobs=2)]: Done 196 tasks      | elapsed:    0.2s\n",
            "[Parallel(n_jobs=2)]: Done 446 tasks      | elapsed:    0.5s\n",
            "[Parallel(n_jobs=2)]: Done 796 tasks      | elapsed:    1.0s\n",
            "[Parallel(n_jobs=2)]: Done 900 out of 900 | elapsed:    1.1s finished\n",
            "[Parallel(n_jobs=-1)]: Using backend LokyBackend with 2 concurrent workers.\n",
            "[Parallel(n_jobs=-1)]: Done  88 tasks      | elapsed:    6.0s\n",
            "[Parallel(n_jobs=-1)]: Done 388 tasks      | elapsed:   26.1s\n",
            "[Parallel(n_jobs=-1)]: Done 888 tasks      | elapsed:   59.5s\n",
            "[Parallel(n_jobs=-1)]: Done 900 out of 900 | elapsed:  1.0min finished\n",
            "[Parallel(n_jobs=2)]: Using backend ThreadingBackend with 2 concurrent workers.\n",
            "[Parallel(n_jobs=2)]: Done  46 tasks      | elapsed:    0.1s\n",
            "[Parallel(n_jobs=2)]: Done 196 tasks      | elapsed:    0.2s\n",
            "[Parallel(n_jobs=2)]: Done 446 tasks      | elapsed:    0.5s\n",
            "[Parallel(n_jobs=2)]: Done 796 tasks      | elapsed:    1.0s\n",
            "[Parallel(n_jobs=2)]: Done 900 out of 900 | elapsed:    1.1s finished\n",
            "[Parallel(n_jobs=-1)]: Using backend LokyBackend with 2 concurrent workers.\n",
            "[Parallel(n_jobs=-1)]: Done  88 tasks      | elapsed:    5.8s\n",
            "[Parallel(n_jobs=-1)]: Done 388 tasks      | elapsed:   25.7s\n",
            "[Parallel(n_jobs=-1)]: Done 888 tasks      | elapsed:   59.0s\n",
            "[Parallel(n_jobs=-1)]: Done 900 out of 900 | elapsed:   59.7s finished\n",
            "[Parallel(n_jobs=2)]: Using backend ThreadingBackend with 2 concurrent workers.\n",
            "[Parallel(n_jobs=2)]: Done  46 tasks      | elapsed:    0.1s\n",
            "[Parallel(n_jobs=2)]: Done 196 tasks      | elapsed:    0.2s\n",
            "[Parallel(n_jobs=2)]: Done 446 tasks      | elapsed:    0.5s\n",
            "[Parallel(n_jobs=2)]: Done 796 tasks      | elapsed:    1.0s\n",
            "[Parallel(n_jobs=2)]: Done 900 out of 900 | elapsed:    1.1s finished\n",
            "[Parallel(n_jobs=-1)]: Using backend LokyBackend with 2 concurrent workers.\n",
            "[Parallel(n_jobs=-1)]: Done  88 tasks      | elapsed:    6.2s\n",
            "[Parallel(n_jobs=-1)]: Done 388 tasks      | elapsed:   26.6s\n",
            "[Parallel(n_jobs=-1)]: Done 888 tasks      | elapsed:  1.0min\n",
            "[Parallel(n_jobs=-1)]: Done 900 out of 900 | elapsed:  1.0min finished\n",
            "[Parallel(n_jobs=2)]: Using backend ThreadingBackend with 2 concurrent workers.\n",
            "[Parallel(n_jobs=2)]: Done  46 tasks      | elapsed:    0.1s\n",
            "[Parallel(n_jobs=2)]: Done 196 tasks      | elapsed:    0.2s\n",
            "[Parallel(n_jobs=2)]: Done 446 tasks      | elapsed:    0.5s\n",
            "[Parallel(n_jobs=2)]: Done 796 tasks      | elapsed:    1.0s\n",
            "[Parallel(n_jobs=2)]: Done 900 out of 900 | elapsed:    1.1s finished\n",
            "[Parallel(n_jobs=-1)]: Using backend LokyBackend with 2 concurrent workers.\n",
            "[Parallel(n_jobs=-1)]: Done  88 tasks      | elapsed:    6.0s\n",
            "[Parallel(n_jobs=-1)]: Done 388 tasks      | elapsed:   26.0s\n",
            "[Parallel(n_jobs=-1)]: Done 888 tasks      | elapsed:   59.2s\n",
            "[Parallel(n_jobs=-1)]: Done 900 out of 900 | elapsed:   60.0s finished\n",
            "[Parallel(n_jobs=2)]: Using backend ThreadingBackend with 2 concurrent workers.\n",
            "[Parallel(n_jobs=2)]: Done  46 tasks      | elapsed:    0.1s\n",
            "[Parallel(n_jobs=2)]: Done 196 tasks      | elapsed:    0.2s\n",
            "[Parallel(n_jobs=2)]: Done 446 tasks      | elapsed:    0.5s\n",
            "[Parallel(n_jobs=2)]: Done 796 tasks      | elapsed:    1.0s\n",
            "[Parallel(n_jobs=2)]: Done 900 out of 900 | elapsed:    1.1s finished\n",
            "[Parallel(n_jobs=-1)]: Using backend LokyBackend with 2 concurrent workers.\n",
            "[Parallel(n_jobs=-1)]: Done 480 tasks      | elapsed:    3.4s\n",
            "[Parallel(n_jobs=-1)]: Done 500 out of 500 | elapsed:    3.6s finished\n",
            "[Parallel(n_jobs=2)]: Using backend ThreadingBackend with 2 concurrent workers.\n",
            "[Parallel(n_jobs=2)]: Done  46 tasks      | elapsed:    0.0s\n",
            "[Parallel(n_jobs=2)]: Done 196 tasks      | elapsed:    0.1s\n",
            "[Parallel(n_jobs=2)]: Done 446 tasks      | elapsed:    0.3s\n",
            "[Parallel(n_jobs=2)]: Done 500 out of 500 | elapsed:    0.3s finished\n",
            "[Parallel(n_jobs=-1)]: Using backend LokyBackend with 2 concurrent workers.\n",
            "[Parallel(n_jobs=-1)]: Done 480 tasks      | elapsed:    3.4s\n",
            "[Parallel(n_jobs=-1)]: Done 500 out of 500 | elapsed:    3.6s finished\n",
            "[Parallel(n_jobs=2)]: Using backend ThreadingBackend with 2 concurrent workers.\n",
            "[Parallel(n_jobs=2)]: Done  46 tasks      | elapsed:    0.0s\n",
            "[Parallel(n_jobs=2)]: Done 196 tasks      | elapsed:    0.1s\n",
            "[Parallel(n_jobs=2)]: Done 446 tasks      | elapsed:    0.3s\n",
            "[Parallel(n_jobs=2)]: Done 500 out of 500 | elapsed:    0.3s finished\n",
            "[Parallel(n_jobs=-1)]: Using backend LokyBackend with 2 concurrent workers.\n",
            "[Parallel(n_jobs=-1)]: Done 480 tasks      | elapsed:    3.4s\n",
            "[Parallel(n_jobs=-1)]: Done 500 out of 500 | elapsed:    3.6s finished\n",
            "[Parallel(n_jobs=2)]: Using backend ThreadingBackend with 2 concurrent workers.\n",
            "[Parallel(n_jobs=2)]: Done  46 tasks      | elapsed:    0.0s\n",
            "[Parallel(n_jobs=2)]: Done 196 tasks      | elapsed:    0.1s\n",
            "[Parallel(n_jobs=2)]: Done 446 tasks      | elapsed:    0.3s\n",
            "[Parallel(n_jobs=2)]: Done 500 out of 500 | elapsed:    0.3s finished\n",
            "[Parallel(n_jobs=-1)]: Using backend LokyBackend with 2 concurrent workers.\n",
            "[Parallel(n_jobs=-1)]: Done 480 tasks      | elapsed:    3.4s\n",
            "[Parallel(n_jobs=-1)]: Done 500 out of 500 | elapsed:    3.6s finished\n",
            "[Parallel(n_jobs=2)]: Using backend ThreadingBackend with 2 concurrent workers.\n",
            "[Parallel(n_jobs=2)]: Done  46 tasks      | elapsed:    0.0s\n",
            "[Parallel(n_jobs=2)]: Done 196 tasks      | elapsed:    0.1s\n",
            "[Parallel(n_jobs=2)]: Done 446 tasks      | elapsed:    0.3s\n",
            "[Parallel(n_jobs=2)]: Done 500 out of 500 | elapsed:    0.3s finished\n",
            "[Parallel(n_jobs=-1)]: Using backend LokyBackend with 2 concurrent workers.\n",
            "[Parallel(n_jobs=-1)]: Done 480 tasks      | elapsed:    3.4s\n",
            "[Parallel(n_jobs=-1)]: Done 500 out of 500 | elapsed:    3.6s finished\n",
            "[Parallel(n_jobs=2)]: Using backend ThreadingBackend with 2 concurrent workers.\n",
            "[Parallel(n_jobs=2)]: Done  46 tasks      | elapsed:    0.0s\n",
            "[Parallel(n_jobs=2)]: Done 196 tasks      | elapsed:    0.1s\n",
            "[Parallel(n_jobs=2)]: Done 446 tasks      | elapsed:    0.3s\n",
            "[Parallel(n_jobs=2)]: Done 500 out of 500 | elapsed:    0.3s finished\n",
            "[Parallel(n_jobs=-1)]: Using backend LokyBackend with 2 concurrent workers.\n",
            "[Parallel(n_jobs=-1)]: Done 300 tasks      | elapsed:    3.1s\n",
            "[Parallel(n_jobs=-1)]: Done 500 out of 500 | elapsed:    5.2s finished\n",
            "[Parallel(n_jobs=2)]: Using backend ThreadingBackend with 2 concurrent workers.\n",
            "[Parallel(n_jobs=2)]: Done  46 tasks      | elapsed:    0.0s\n",
            "[Parallel(n_jobs=2)]: Done 196 tasks      | elapsed:    0.1s\n",
            "[Parallel(n_jobs=2)]: Done 446 tasks      | elapsed:    0.3s\n",
            "[Parallel(n_jobs=2)]: Done 500 out of 500 | elapsed:    0.3s finished\n",
            "[Parallel(n_jobs=-1)]: Using backend LokyBackend with 2 concurrent workers.\n",
            "[Parallel(n_jobs=-1)]: Done 300 tasks      | elapsed:    3.1s\n",
            "[Parallel(n_jobs=-1)]: Done 500 out of 500 | elapsed:    5.2s finished\n",
            "[Parallel(n_jobs=2)]: Using backend ThreadingBackend with 2 concurrent workers.\n",
            "[Parallel(n_jobs=2)]: Done  46 tasks      | elapsed:    0.0s\n",
            "[Parallel(n_jobs=2)]: Done 196 tasks      | elapsed:    0.1s\n",
            "[Parallel(n_jobs=2)]: Done 446 tasks      | elapsed:    0.3s\n",
            "[Parallel(n_jobs=2)]: Done 500 out of 500 | elapsed:    0.3s finished\n",
            "[Parallel(n_jobs=-1)]: Using backend LokyBackend with 2 concurrent workers.\n",
            "[Parallel(n_jobs=-1)]: Done 300 tasks      | elapsed:    3.2s\n",
            "[Parallel(n_jobs=-1)]: Done 500 out of 500 | elapsed:    5.2s finished\n",
            "[Parallel(n_jobs=2)]: Using backend ThreadingBackend with 2 concurrent workers.\n",
            "[Parallel(n_jobs=2)]: Done  46 tasks      | elapsed:    0.0s\n",
            "[Parallel(n_jobs=2)]: Done 196 tasks      | elapsed:    0.1s\n",
            "[Parallel(n_jobs=2)]: Done 446 tasks      | elapsed:    0.3s\n",
            "[Parallel(n_jobs=2)]: Done 500 out of 500 | elapsed:    0.3s finished\n",
            "[Parallel(n_jobs=-1)]: Using backend LokyBackend with 2 concurrent workers.\n",
            "[Parallel(n_jobs=-1)]: Done 300 tasks      | elapsed:    3.2s\n",
            "[Parallel(n_jobs=-1)]: Done 500 out of 500 | elapsed:    5.2s finished\n",
            "[Parallel(n_jobs=2)]: Using backend ThreadingBackend with 2 concurrent workers.\n",
            "[Parallel(n_jobs=2)]: Done  46 tasks      | elapsed:    0.0s\n",
            "[Parallel(n_jobs=2)]: Done 196 tasks      | elapsed:    0.1s\n",
            "[Parallel(n_jobs=2)]: Done 446 tasks      | elapsed:    0.3s\n",
            "[Parallel(n_jobs=2)]: Done 500 out of 500 | elapsed:    0.3s finished\n",
            "[Parallel(n_jobs=-1)]: Using backend LokyBackend with 2 concurrent workers.\n",
            "[Parallel(n_jobs=-1)]: Done 300 tasks      | elapsed:    3.2s\n",
            "[Parallel(n_jobs=-1)]: Done 500 out of 500 | elapsed:    5.2s finished\n",
            "[Parallel(n_jobs=2)]: Using backend ThreadingBackend with 2 concurrent workers.\n",
            "[Parallel(n_jobs=2)]: Done  46 tasks      | elapsed:    0.0s\n",
            "[Parallel(n_jobs=2)]: Done 196 tasks      | elapsed:    0.1s\n",
            "[Parallel(n_jobs=2)]: Done 446 tasks      | elapsed:    0.3s\n",
            "[Parallel(n_jobs=2)]: Done 500 out of 500 | elapsed:    0.3s finished\n",
            "[Parallel(n_jobs=-1)]: Using backend LokyBackend with 2 concurrent workers.\n",
            "[Parallel(n_jobs=-1)]: Done 164 tasks      | elapsed:    4.4s\n",
            "[Parallel(n_jobs=-1)]: Done 764 tasks      | elapsed:   20.4s\n",
            "[Parallel(n_jobs=-1)]: Done 900 out of 900 | elapsed:   24.1s finished\n",
            "[Parallel(n_jobs=2)]: Using backend ThreadingBackend with 2 concurrent workers.\n",
            "[Parallel(n_jobs=2)]: Done  46 tasks      | elapsed:    0.0s\n",
            "[Parallel(n_jobs=2)]: Done 196 tasks      | elapsed:    0.1s\n",
            "[Parallel(n_jobs=2)]: Done 446 tasks      | elapsed:    0.3s\n",
            "[Parallel(n_jobs=2)]: Done 796 tasks      | elapsed:    0.6s\n",
            "[Parallel(n_jobs=2)]: Done 900 out of 900 | elapsed:    0.7s finished\n",
            "[Parallel(n_jobs=-1)]: Using backend LokyBackend with 2 concurrent workers.\n",
            "[Parallel(n_jobs=-1)]: Done 164 tasks      | elapsed:    4.4s\n",
            "[Parallel(n_jobs=-1)]: Done 764 tasks      | elapsed:   20.4s\n",
            "[Parallel(n_jobs=-1)]: Done 900 out of 900 | elapsed:   24.0s finished\n",
            "[Parallel(n_jobs=2)]: Using backend ThreadingBackend with 2 concurrent workers.\n",
            "[Parallel(n_jobs=2)]: Done  46 tasks      | elapsed:    0.0s\n",
            "[Parallel(n_jobs=2)]: Done 196 tasks      | elapsed:    0.1s\n",
            "[Parallel(n_jobs=2)]: Done 446 tasks      | elapsed:    0.3s\n",
            "[Parallel(n_jobs=2)]: Done 796 tasks      | elapsed:    0.6s\n",
            "[Parallel(n_jobs=2)]: Done 900 out of 900 | elapsed:    0.6s finished\n",
            "[Parallel(n_jobs=-1)]: Using backend LokyBackend with 2 concurrent workers.\n",
            "[Parallel(n_jobs=-1)]: Done 164 tasks      | elapsed:    4.6s\n",
            "[Parallel(n_jobs=-1)]: Done 764 tasks      | elapsed:   20.9s\n",
            "[Parallel(n_jobs=-1)]: Done 900 out of 900 | elapsed:   24.6s finished\n",
            "[Parallel(n_jobs=2)]: Using backend ThreadingBackend with 2 concurrent workers.\n",
            "[Parallel(n_jobs=2)]: Done  46 tasks      | elapsed:    0.0s\n",
            "[Parallel(n_jobs=2)]: Done 196 tasks      | elapsed:    0.1s\n",
            "[Parallel(n_jobs=2)]: Done 446 tasks      | elapsed:    0.3s\n",
            "[Parallel(n_jobs=2)]: Done 796 tasks      | elapsed:    0.6s\n",
            "[Parallel(n_jobs=2)]: Done 900 out of 900 | elapsed:    0.7s finished\n",
            "[Parallel(n_jobs=-1)]: Using backend LokyBackend with 2 concurrent workers.\n",
            "[Parallel(n_jobs=-1)]: Done 164 tasks      | elapsed:    4.5s\n",
            "[Parallel(n_jobs=-1)]: Done 764 tasks      | elapsed:   20.7s\n",
            "[Parallel(n_jobs=-1)]: Done 900 out of 900 | elapsed:   24.4s finished\n",
            "[Parallel(n_jobs=2)]: Using backend ThreadingBackend with 2 concurrent workers.\n",
            "[Parallel(n_jobs=2)]: Done  46 tasks      | elapsed:    0.0s\n",
            "[Parallel(n_jobs=2)]: Done 196 tasks      | elapsed:    0.1s\n",
            "[Parallel(n_jobs=2)]: Done 446 tasks      | elapsed:    0.3s\n",
            "[Parallel(n_jobs=2)]: Done 796 tasks      | elapsed:    0.6s\n",
            "[Parallel(n_jobs=2)]: Done 900 out of 900 | elapsed:    0.6s finished\n",
            "[Parallel(n_jobs=-1)]: Using backend LokyBackend with 2 concurrent workers.\n",
            "[Parallel(n_jobs=-1)]: Done 164 tasks      | elapsed:    4.4s\n",
            "[Parallel(n_jobs=-1)]: Done 764 tasks      | elapsed:   20.7s\n",
            "[Parallel(n_jobs=-1)]: Done 900 out of 900 | elapsed:   24.3s finished\n",
            "[Parallel(n_jobs=2)]: Using backend ThreadingBackend with 2 concurrent workers.\n",
            "[Parallel(n_jobs=2)]: Done  46 tasks      | elapsed:    0.0s\n",
            "[Parallel(n_jobs=2)]: Done 196 tasks      | elapsed:    0.1s\n",
            "[Parallel(n_jobs=2)]: Done 446 tasks      | elapsed:    0.3s\n",
            "[Parallel(n_jobs=2)]: Done 796 tasks      | elapsed:    0.6s\n",
            "[Parallel(n_jobs=2)]: Done 900 out of 900 | elapsed:    0.7s finished\n",
            "[Parallel(n_jobs=-1)]: Using backend LokyBackend with 2 concurrent workers.\n",
            "[Parallel(n_jobs=-1)]: Done 164 tasks      | elapsed:    4.4s\n",
            "[Parallel(n_jobs=-1)]: Done 764 tasks      | elapsed:   20.5s\n",
            "[Parallel(n_jobs=-1)]: Done 900 out of 900 | elapsed:   24.0s finished\n",
            "[Parallel(n_jobs=2)]: Using backend ThreadingBackend with 2 concurrent workers.\n",
            "[Parallel(n_jobs=2)]: Done  46 tasks      | elapsed:    0.0s\n",
            "[Parallel(n_jobs=2)]: Done 196 tasks      | elapsed:    0.1s\n",
            "[Parallel(n_jobs=2)]: Done 446 tasks      | elapsed:    0.3s\n",
            "[Parallel(n_jobs=2)]: Done 796 tasks      | elapsed:    0.6s\n",
            "[Parallel(n_jobs=2)]: Done 900 out of 900 | elapsed:    0.6s finished\n",
            "[Parallel(n_jobs=-1)]: Using backend LokyBackend with 2 concurrent workers.\n",
            "[Parallel(n_jobs=-1)]: Done 164 tasks      | elapsed:    4.4s\n",
            "[Parallel(n_jobs=-1)]: Done 764 tasks      | elapsed:   20.5s\n",
            "[Parallel(n_jobs=-1)]: Done 900 out of 900 | elapsed:   24.1s finished\n",
            "[Parallel(n_jobs=2)]: Using backend ThreadingBackend with 2 concurrent workers.\n",
            "[Parallel(n_jobs=2)]: Done  46 tasks      | elapsed:    0.0s\n",
            "[Parallel(n_jobs=2)]: Done 196 tasks      | elapsed:    0.1s\n",
            "[Parallel(n_jobs=2)]: Done 446 tasks      | elapsed:    0.3s\n",
            "[Parallel(n_jobs=2)]: Done 796 tasks      | elapsed:    0.6s\n",
            "[Parallel(n_jobs=2)]: Done 900 out of 900 | elapsed:    0.6s finished\n",
            "[Parallel(n_jobs=-1)]: Using backend LokyBackend with 2 concurrent workers.\n",
            "[Parallel(n_jobs=-1)]: Done 164 tasks      | elapsed:    4.5s\n",
            "[Parallel(n_jobs=-1)]: Done 764 tasks      | elapsed:   20.7s\n",
            "[Parallel(n_jobs=-1)]: Done 900 out of 900 | elapsed:   24.3s finished\n",
            "[Parallel(n_jobs=2)]: Using backend ThreadingBackend with 2 concurrent workers.\n",
            "[Parallel(n_jobs=2)]: Done  46 tasks      | elapsed:    0.0s\n",
            "[Parallel(n_jobs=2)]: Done 196 tasks      | elapsed:    0.1s\n",
            "[Parallel(n_jobs=2)]: Done 446 tasks      | elapsed:    0.3s\n",
            "[Parallel(n_jobs=2)]: Done 796 tasks      | elapsed:    0.6s\n",
            "[Parallel(n_jobs=2)]: Done 900 out of 900 | elapsed:    0.6s finished\n",
            "[Parallel(n_jobs=-1)]: Using backend LokyBackend with 2 concurrent workers.\n",
            "[Parallel(n_jobs=-1)]: Done 164 tasks      | elapsed:    4.5s\n",
            "[Parallel(n_jobs=-1)]: Done 764 tasks      | elapsed:   20.6s\n",
            "[Parallel(n_jobs=-1)]: Done 900 out of 900 | elapsed:   24.2s finished\n",
            "[Parallel(n_jobs=2)]: Using backend ThreadingBackend with 2 concurrent workers.\n",
            "[Parallel(n_jobs=2)]: Done  46 tasks      | elapsed:    0.0s\n",
            "[Parallel(n_jobs=2)]: Done 196 tasks      | elapsed:    0.1s\n",
            "[Parallel(n_jobs=2)]: Done 446 tasks      | elapsed:    0.3s\n",
            "[Parallel(n_jobs=2)]: Done 796 tasks      | elapsed:    0.6s\n",
            "[Parallel(n_jobs=2)]: Done 900 out of 900 | elapsed:    0.7s finished\n",
            "[Parallel(n_jobs=-1)]: Using backend LokyBackend with 2 concurrent workers.\n",
            "[Parallel(n_jobs=-1)]: Done 164 tasks      | elapsed:    4.4s\n",
            "[Parallel(n_jobs=-1)]: Done 764 tasks      | elapsed:   20.4s\n",
            "[Parallel(n_jobs=-1)]: Done 900 out of 900 | elapsed:   23.9s finished\n",
            "[Parallel(n_jobs=2)]: Using backend ThreadingBackend with 2 concurrent workers.\n",
            "[Parallel(n_jobs=2)]: Done  46 tasks      | elapsed:    0.0s\n",
            "[Parallel(n_jobs=2)]: Done 196 tasks      | elapsed:    0.1s\n",
            "[Parallel(n_jobs=2)]: Done 446 tasks      | elapsed:    0.3s\n",
            "[Parallel(n_jobs=2)]: Done 796 tasks      | elapsed:    0.6s\n",
            "[Parallel(n_jobs=2)]: Done 900 out of 900 | elapsed:    0.7s finished\n",
            "[Parallel(n_jobs=-1)]: Using backend LokyBackend with 2 concurrent workers.\n",
            "[Parallel(n_jobs=-1)]: Done 164 tasks      | elapsed:    3.2s\n",
            "[Parallel(n_jobs=-1)]: Done 500 out of 500 | elapsed:    9.6s finished\n",
            "[Parallel(n_jobs=2)]: Using backend ThreadingBackend with 2 concurrent workers.\n",
            "[Parallel(n_jobs=2)]: Done  46 tasks      | elapsed:    0.0s\n",
            "[Parallel(n_jobs=2)]: Done 196 tasks      | elapsed:    0.1s\n",
            "[Parallel(n_jobs=2)]: Done 446 tasks      | elapsed:    0.3s\n",
            "[Parallel(n_jobs=2)]: Done 500 out of 500 | elapsed:    0.3s finished\n",
            "[Parallel(n_jobs=-1)]: Using backend LokyBackend with 2 concurrent workers.\n",
            "[Parallel(n_jobs=-1)]: Done 164 tasks      | elapsed:    3.2s\n",
            "[Parallel(n_jobs=-1)]: Done 500 out of 500 | elapsed:    9.6s finished\n",
            "[Parallel(n_jobs=2)]: Using backend ThreadingBackend with 2 concurrent workers.\n",
            "[Parallel(n_jobs=2)]: Done  46 tasks      | elapsed:    0.0s\n",
            "[Parallel(n_jobs=2)]: Done 196 tasks      | elapsed:    0.1s\n",
            "[Parallel(n_jobs=2)]: Done 446 tasks      | elapsed:    0.3s\n",
            "[Parallel(n_jobs=2)]: Done 500 out of 500 | elapsed:    0.4s finished\n",
            "[Parallel(n_jobs=-1)]: Using backend LokyBackend with 2 concurrent workers.\n",
            "[Parallel(n_jobs=-1)]: Done 164 tasks      | elapsed:    3.2s\n",
            "[Parallel(n_jobs=-1)]: Done 500 out of 500 | elapsed:    9.6s finished\n",
            "[Parallel(n_jobs=2)]: Using backend ThreadingBackend with 2 concurrent workers.\n",
            "[Parallel(n_jobs=2)]: Done  46 tasks      | elapsed:    0.0s\n",
            "[Parallel(n_jobs=2)]: Done 196 tasks      | elapsed:    0.1s\n",
            "[Parallel(n_jobs=2)]: Done 446 tasks      | elapsed:    0.3s\n",
            "[Parallel(n_jobs=2)]: Done 500 out of 500 | elapsed:    0.4s finished\n",
            "[Parallel(n_jobs=-1)]: Using backend LokyBackend with 2 concurrent workers.\n",
            "[Parallel(n_jobs=-1)]: Done 164 tasks      | elapsed:    3.3s\n",
            "[Parallel(n_jobs=-1)]: Done 500 out of 500 | elapsed:    9.7s finished\n",
            "[Parallel(n_jobs=2)]: Using backend ThreadingBackend with 2 concurrent workers.\n",
            "[Parallel(n_jobs=2)]: Done  46 tasks      | elapsed:    0.0s\n",
            "[Parallel(n_jobs=2)]: Done 196 tasks      | elapsed:    0.1s\n",
            "[Parallel(n_jobs=2)]: Done 446 tasks      | elapsed:    0.3s\n",
            "[Parallel(n_jobs=2)]: Done 500 out of 500 | elapsed:    0.4s finished\n",
            "[Parallel(n_jobs=-1)]: Using backend LokyBackend with 2 concurrent workers.\n",
            "[Parallel(n_jobs=-1)]: Done 164 tasks      | elapsed:    3.3s\n",
            "[Parallel(n_jobs=-1)]: Done 500 out of 500 | elapsed:    9.6s finished\n",
            "[Parallel(n_jobs=2)]: Using backend ThreadingBackend with 2 concurrent workers.\n",
            "[Parallel(n_jobs=2)]: Done  46 tasks      | elapsed:    0.0s\n",
            "[Parallel(n_jobs=2)]: Done 196 tasks      | elapsed:    0.1s\n",
            "[Parallel(n_jobs=2)]: Done 446 tasks      | elapsed:    0.3s\n",
            "[Parallel(n_jobs=2)]: Done 500 out of 500 | elapsed:    0.4s finished\n",
            "[Parallel(n_jobs=-1)]: Using backend ThreadingBackend with 2 concurrent workers.\n",
            "[Parallel(n_jobs=-1)]: Done  46 tasks      | elapsed:    3.8s\n",
            "[Parallel(n_jobs=-1)]: Done 196 tasks      | elapsed:   16.2s\n",
            "[Parallel(n_jobs=-1)]: Done 446 tasks      | elapsed:   36.9s\n",
            "[Parallel(n_jobs=-1)]: Done 796 tasks      | elapsed:  1.1min\n",
            "[Parallel(n_jobs=-1)]: Done 900 out of 900 | elapsed:  1.2min finished\n"
          ],
          "name": "stderr"
        },
        {
          "output_type": "execute_result",
          "data": {
            "text/plain": [
              "RandomizedSearchCV(cv=5, error_score=nan,\n",
              "                   estimator=RandomForestClassifier(bootstrap=True,\n",
              "                                                    ccp_alpha=0.0,\n",
              "                                                    class_weight={0: 1.0,\n",
              "                                                                  1: 50.0},\n",
              "                                                    criterion='gini',\n",
              "                                                    max_depth=None,\n",
              "                                                    max_features='auto',\n",
              "                                                    max_leaf_nodes=None,\n",
              "                                                    max_samples=None,\n",
              "                                                    min_impurity_decrease=0.0,\n",
              "                                                    min_impurity_split=None,\n",
              "                                                    min_samples_leaf=1,\n",
              "                                                    min_samples_split=2,\n",
              "                                                    min_weight_fraction_leaf=0.0,\n",
              "                                                    n_estimators=...\n",
              "                                                    warm_start=False),\n",
              "                   iid='deprecated', n_iter=10, n_jobs=None,\n",
              "                   param_distributions={'bootstrap': [True, False],\n",
              "                                        'max_depth': [None, 2, 5, 7],\n",
              "                                        'max_features': [12, 16, 20, 25],\n",
              "                                        'min_samples_leaf': [3, 5, 7, 9],\n",
              "                                        'min_samples_split': [12, 15, 18, 20],\n",
              "                                        'n_estimators': [500, 700, 900]},\n",
              "                   pre_dispatch='2*n_jobs', random_state=None, refit=True,\n",
              "                   return_train_score=False, scoring='roc_auc', verbose=0)"
            ]
          },
          "metadata": {
            "tags": []
          },
          "execution_count": 95
        }
      ]
    },
    {
      "cell_type": "code",
      "metadata": {
        "id": "WY8ExU366LIU",
        "colab_type": "code",
        "colab": {}
      },
      "source": [
        "rf_best= random_search.best_estimator_"
      ],
      "execution_count": 0,
      "outputs": []
    },
    {
      "cell_type": "code",
      "metadata": {
        "id": "6rwsWlDsDtit",
        "colab_type": "code",
        "colab": {}
      },
      "source": [
        "#Using the report function given below we can see the cv performance of top few models \n",
        "def report(results, n_top=3):\n",
        "    for i in range(1, n_top + 1):\n",
        "        candidates = np.flatnonzero(results['rank_test_score'] == i)\n",
        "        for candidate in candidates:\n",
        "            print(\"Model with rank: {0}\".format(i))\n",
        "            print(\"Mean validation score: {0:.3f} (std: {1:.3f})\".format(\n",
        "                  results['mean_test_score'][candidate],\n",
        "                  results['std_test_score'][candidate]))\n",
        "            print(\"Parameters: {0}\".format(results['params'][candidate]))\n",
        "            print(\"\")"
      ],
      "execution_count": 0,
      "outputs": []
    },
    {
      "cell_type": "code",
      "metadata": {
        "id": "NYLBpAnxMILp",
        "colab_type": "code",
        "outputId": "e71b19c7-51bc-41da-b9e1-cad6b89d1e2a",
        "colab": {
          "base_uri": "https://localhost:8080/",
          "height": 235
        }
      },
      "source": [
        "report(random_search.cv_results_,3)"
      ],
      "execution_count": 0,
      "outputs": [
        {
          "output_type": "stream",
          "text": [
            "Model with rank: 1\n",
            "Mean validation score: 0.885 (std: 0.005)\n",
            "Parameters: {'n_estimators': 900, 'min_samples_split': 20, 'min_samples_leaf': 7, 'max_features': 25, 'max_depth': None, 'bootstrap': False}\n",
            "\n",
            "Model with rank: 2\n",
            "Mean validation score: 0.851 (std: 0.003)\n",
            "Parameters: {'n_estimators': 900, 'min_samples_split': 20, 'min_samples_leaf': 7, 'max_features': 25, 'max_depth': 5, 'bootstrap': False}\n",
            "\n",
            "Model with rank: 3\n",
            "Mean validation score: 0.851 (std: 0.004)\n",
            "Parameters: {'n_estimators': 900, 'min_samples_split': 15, 'min_samples_leaf': 5, 'max_features': 25, 'max_depth': 5, 'bootstrap': False}\n",
            "\n"
          ],
          "name": "stdout"
        }
      ]
    },
    {
      "cell_type": "markdown",
      "metadata": {
        "id": "QCgkXP-VMy2w",
        "colab_type": "text"
      },
      "source": [
        "From above we can see that **Model Rank-1** has best parameters, hence we will take those parameters into consideration."
      ]
    },
    {
      "cell_type": "code",
      "metadata": {
        "id": "Sc7ticmbMQ5A",
        "colab_type": "code",
        "colab": {}
      },
      "source": [
        "best_parameters= {'n_estimators': 900, 'min_samples_split': 20, 'min_samples_leaf': 7, 'max_features': 25, 'max_depth': None, 'bootstrap': False}"
      ],
      "execution_count": 0,
      "outputs": []
    },
    {
      "cell_type": "code",
      "metadata": {
        "id": "IBNzddD0M6xo",
        "colab_type": "code",
        "colab": {}
      },
      "source": [
        "rf_best= RandomForestClassifier(n_estimators= 900, min_samples_split=20, min_samples_leaf=7, max_features=25, max_depth=None , bootstrap=False, \n",
        "                                verbose=1, n_jobs=-1, random_state=10, class_weight={0:1., 1:50.})"
      ],
      "execution_count": 0,
      "outputs": []
    },
    {
      "cell_type": "code",
      "metadata": {
        "id": "TU2U_0yuNk6D",
        "colab_type": "code",
        "outputId": "0508effc-c9c3-4e60-d56c-5a1d23fae3e8",
        "colab": {
          "base_uri": "https://localhost:8080/",
          "height": 271
        }
      },
      "source": [
        "rf_best.fit(X_train_rfe, Y_train_rfe)"
      ],
      "execution_count": 0,
      "outputs": [
        {
          "output_type": "stream",
          "text": [
            "[Parallel(n_jobs=-1)]: Using backend ThreadingBackend with 2 concurrent workers.\n",
            "[Parallel(n_jobs=-1)]: Done  46 tasks      | elapsed:    4.3s\n",
            "[Parallel(n_jobs=-1)]: Done 196 tasks      | elapsed:   18.0s\n",
            "[Parallel(n_jobs=-1)]: Done 446 tasks      | elapsed:   40.9s\n",
            "[Parallel(n_jobs=-1)]: Done 796 tasks      | elapsed:  1.2min\n",
            "[Parallel(n_jobs=-1)]: Done 900 out of 900 | elapsed:  1.4min finished\n"
          ],
          "name": "stderr"
        },
        {
          "output_type": "execute_result",
          "data": {
            "text/plain": [
              "RandomForestClassifier(bootstrap=False, ccp_alpha=0.0,\n",
              "                       class_weight={0: 1.0, 1: 50.0}, criterion='gini',\n",
              "                       max_depth=None, max_features=25, max_leaf_nodes=None,\n",
              "                       max_samples=None, min_impurity_decrease=0.0,\n",
              "                       min_impurity_split=None, min_samples_leaf=7,\n",
              "                       min_samples_split=20, min_weight_fraction_leaf=0.0,\n",
              "                       n_estimators=900, n_jobs=-1, oob_score=False,\n",
              "                       random_state=10, verbose=1, warm_start=False)"
            ]
          },
          "metadata": {
            "tags": []
          },
          "execution_count": 51
        }
      ]
    },
    {
      "cell_type": "code",
      "metadata": {
        "id": "z027Ay68Nqk3",
        "colab_type": "code",
        "outputId": "62aefbaf-99ea-4442-ef26-82b4853ad057",
        "colab": {
          "base_uri": "https://localhost:8080/",
          "height": 144
        }
      },
      "source": [
        "predicted_rf= rf_best.predict(X_test_rfe)\n",
        "predicted_rf"
      ],
      "execution_count": 0,
      "outputs": [
        {
          "output_type": "stream",
          "text": [
            "[Parallel(n_jobs=2)]: Using backend ThreadingBackend with 2 concurrent workers.\n",
            "[Parallel(n_jobs=2)]: Done  46 tasks      | elapsed:    0.1s\n",
            "[Parallel(n_jobs=2)]: Done 196 tasks      | elapsed:    0.3s\n",
            "[Parallel(n_jobs=2)]: Done 446 tasks      | elapsed:    0.6s\n",
            "[Parallel(n_jobs=2)]: Done 796 tasks      | elapsed:    1.1s\n",
            "[Parallel(n_jobs=2)]: Done 900 out of 900 | elapsed:    1.3s finished\n"
          ],
          "name": "stderr"
        },
        {
          "output_type": "execute_result",
          "data": {
            "text/plain": [
              "array([0., 0., 1., ..., 0., 0., 0.])"
            ]
          },
          "metadata": {
            "tags": []
          },
          "execution_count": 52
        }
      ]
    },
    {
      "cell_type": "code",
      "metadata": {
        "id": "Gpvook-vOxSn",
        "colab_type": "code",
        "outputId": "4be9d163-73df-4c93-8fdc-fff7b92c3505",
        "colab": {
          "base_uri": "https://localhost:8080/",
          "height": 35
        }
      },
      "source": [
        "roc_auc_score(Y_test_rfe, predicted_rf), accuracy_score(Y_test_rfe, predicted_rf)"
      ],
      "execution_count": 0,
      "outputs": [
        {
          "output_type": "execute_result",
          "data": {
            "text/plain": [
              "(0.7952878620803933, 0.7444809341361065)"
            ]
          },
          "metadata": {
            "tags": []
          },
          "execution_count": 53
        }
      ]
    },
    {
      "cell_type": "markdown",
      "metadata": {
        "id": "Csey50gHSQhJ",
        "colab_type": "text"
      },
      "source": [
        "### **Lets train the entire TRAIN data and predict the TEST file..**"
      ]
    },
    {
      "cell_type": "code",
      "metadata": {
        "id": "Zk_TiJ_oO8eD",
        "colab_type": "code",
        "colab": {}
      },
      "source": [
        "X_train_full= train_file[selected_features_rfe]  #Here we have selected the features which we shortlisted earlier in Feature Engineering part.\n",
        "Y_train_full= train_file['is_promoted']"
      ],
      "execution_count": 0,
      "outputs": []
    },
    {
      "cell_type": "code",
      "metadata": {
        "id": "baAP0U4pU67z",
        "colab_type": "code",
        "colab": {}
      },
      "source": [
        "X_test_file= test_file[selected_features_rfe]"
      ],
      "execution_count": 0,
      "outputs": []
    },
    {
      "cell_type": "code",
      "metadata": {
        "id": "Z7CiboDXdOHO",
        "colab_type": "code",
        "outputId": "26baf8e1-5280-44fb-cc24-cf0c04df879e",
        "colab": {
          "base_uri": "https://localhost:8080/",
          "height": 35
        }
      },
      "source": [
        "X_test_file.shape"
      ],
      "execution_count": 0,
      "outputs": [
        {
          "output_type": "execute_result",
          "data": {
            "text/plain": [
              "(23490, 44)"
            ]
          },
          "metadata": {
            "tags": []
          },
          "execution_count": 97
        }
      ]
    },
    {
      "cell_type": "markdown",
      "metadata": {
        "id": "Kc1U61GwWf-m",
        "colab_type": "text"
      },
      "source": [
        "Lets fit the model."
      ]
    },
    {
      "cell_type": "code",
      "metadata": {
        "id": "nR2p3CjtTD7X",
        "colab_type": "code",
        "outputId": "dde01926-5785-4ded-d9aa-69eea6efc63f",
        "colab": {
          "base_uri": "https://localhost:8080/",
          "height": 271
        }
      },
      "source": [
        "rf_best.fit(X_train_full, Y_train_full)"
      ],
      "execution_count": 0,
      "outputs": [
        {
          "output_type": "stream",
          "text": [
            "[Parallel(n_jobs=-1)]: Using backend ThreadingBackend with 2 concurrent workers.\n",
            "[Parallel(n_jobs=-1)]: Done  46 tasks      | elapsed:    5.8s\n",
            "[Parallel(n_jobs=-1)]: Done 196 tasks      | elapsed:   24.4s\n",
            "[Parallel(n_jobs=-1)]: Done 446 tasks      | elapsed:   54.6s\n",
            "[Parallel(n_jobs=-1)]: Done 796 tasks      | elapsed:  1.6min\n",
            "[Parallel(n_jobs=-1)]: Done 900 out of 900 | elapsed:  1.8min finished\n"
          ],
          "name": "stderr"
        },
        {
          "output_type": "execute_result",
          "data": {
            "text/plain": [
              "RandomForestClassifier(bootstrap=False, ccp_alpha=0.0,\n",
              "                       class_weight={0: 1.0, 1: 50.0}, criterion='gini',\n",
              "                       max_depth=None, max_features=25, max_leaf_nodes=None,\n",
              "                       max_samples=None, min_impurity_decrease=0.0,\n",
              "                       min_impurity_split=None, min_samples_leaf=7,\n",
              "                       min_samples_split=20, min_weight_fraction_leaf=0.0,\n",
              "                       n_estimators=900, n_jobs=-1, oob_score=False,\n",
              "                       random_state=10, verbose=1, warm_start=False)"
            ]
          },
          "metadata": {
            "tags": []
          },
          "execution_count": 56
        }
      ]
    },
    {
      "cell_type": "code",
      "metadata": {
        "id": "05kzoUBKS6zU",
        "colab_type": "code",
        "outputId": "61e5374b-6cab-4c90-fbb2-0d3f11cdd19c",
        "colab": {
          "base_uri": "https://localhost:8080/",
          "height": 126
        }
      },
      "source": [
        "predict_test_file= rf_best.predict(X_test_file)"
      ],
      "execution_count": 0,
      "outputs": [
        {
          "output_type": "stream",
          "text": [
            "[Parallel(n_jobs=2)]: Using backend ThreadingBackend with 2 concurrent workers.\n",
            "[Parallel(n_jobs=2)]: Done  46 tasks      | elapsed:    0.1s\n",
            "[Parallel(n_jobs=2)]: Done 196 tasks      | elapsed:    0.6s\n",
            "[Parallel(n_jobs=2)]: Done 446 tasks      | elapsed:    1.3s\n",
            "[Parallel(n_jobs=2)]: Done 796 tasks      | elapsed:    2.3s\n",
            "[Parallel(n_jobs=2)]: Done 900 out of 900 | elapsed:    2.6s finished\n"
          ],
          "name": "stderr"
        }
      ]
    },
    {
      "cell_type": "code",
      "metadata": {
        "id": "OGgYdQ5IihZz",
        "colab_type": "code",
        "colab": {}
      },
      "source": [
        "employee_id= test_file['employee_id']"
      ],
      "execution_count": 0,
      "outputs": []
    },
    {
      "cell_type": "code",
      "metadata": {
        "id": "KvQzKeYRWpbN",
        "colab_type": "code",
        "colab": {}
      },
      "source": [
        "my_solution= pd.DataFrame({'employee_id': employee_id , 'is_promoted': predict_test_file})"
      ],
      "execution_count": 0,
      "outputs": []
    },
    {
      "cell_type": "code",
      "metadata": {
        "id": "FA2KBDDnlKq3",
        "colab_type": "code",
        "colab": {}
      },
      "source": [
        "my_solution= my_solution.style.hide_index()"
      ],
      "execution_count": 0,
      "outputs": []
    },
    {
      "cell_type": "code",
      "metadata": {
        "id": "Tvt9DZj1gQ0B",
        "colab_type": "code",
        "colab": {}
      },
      "source": [
        "pd.DataFrame(my_solution).to_csv(\"/content/solution_file.csv\")"
      ],
      "execution_count": 0,
      "outputs": []
    },
    {
      "cell_type": "markdown",
      "metadata": {
        "id": "tog1fXR_h9ev",
        "colab_type": "text"
      },
      "source": [
        "### **Using XGBoost**"
      ]
    },
    {
      "cell_type": "code",
      "metadata": {
        "id": "jlm50fZAZNui",
        "colab_type": "code",
        "colab": {}
      },
      "source": [
        "import xgboost as xgb"
      ],
      "execution_count": 0,
      "outputs": []
    },
    {
      "cell_type": "code",
      "metadata": {
        "id": "sAHNUggeh8Cq",
        "colab_type": "code",
        "colab": {}
      },
      "source": [
        "xgbst= xgb.XGBClassifier(objective='binary:logistic')"
      ],
      "execution_count": 0,
      "outputs": []
    },
    {
      "cell_type": "code",
      "metadata": {
        "id": "ps_S6pxCh8G_",
        "colab_type": "code",
        "colab": {}
      },
      "source": [
        "n_iter=10\n",
        "\n",
        "random_search= RandomizedSearchCV(xgb, verbose=1, n_jobs=-1, cv=5, n_iter= n_iter, scoring='roc_auc', param_distributions= xgb_params)"
      ],
      "execution_count": 0,
      "outputs": []
    },
    {
      "cell_type": "code",
      "metadata": {
        "id": "aUdEdBLvh8I3",
        "colab_type": "code",
        "outputId": "7df6aaab-f54d-4d39-b2b4-c6321468bcb0",
        "colab": {
          "base_uri": "https://localhost:8080/",
          "height": 508
        }
      },
      "source": [
        "random_search.fit(X_train_rfe, Y_train_rfe)"
      ],
      "execution_count": 0,
      "outputs": [
        {
          "output_type": "stream",
          "text": [
            "Fitting 5 folds for each of 10 candidates, totalling 50 fits\n"
          ],
          "name": "stdout"
        },
        {
          "output_type": "stream",
          "text": [
            "[Parallel(n_jobs=-1)]: Using backend LokyBackend with 2 concurrent workers.\n",
            "[Parallel(n_jobs=-1)]: Done  46 tasks      | elapsed: 10.5min\n",
            "[Parallel(n_jobs=-1)]: Done  50 out of  50 | elapsed: 11.9min finished\n"
          ],
          "name": "stderr"
        },
        {
          "output_type": "execute_result",
          "data": {
            "text/plain": [
              "RandomizedSearchCV(cv=5, error_score=nan,\n",
              "                   estimator=XGBClassifier(base_score=0.5, booster='gbtree',\n",
              "                                           colsample_bylevel=1,\n",
              "                                           colsample_bynode=1,\n",
              "                                           colsample_bytree=1, gamma=0,\n",
              "                                           learning_rate=0.1, max_delta_step=0,\n",
              "                                           max_depth=3, min_child_weight=1,\n",
              "                                           missing=None, n_estimators=100,\n",
              "                                           n_jobs=1, nthread=None,\n",
              "                                           objective='binary:logistic',\n",
              "                                           random_state=0, reg_alpha=0,\n",
              "                                           reg_lambda=1, sc...\n",
              "                                        'max_delta_step': [0, 1, 2, 5, 10],\n",
              "                                        'max_depth': [2, 3, 4, 5, 8, 10],\n",
              "                                        'min_child_weight': [1, 2, 5, 10],\n",
              "                                        'n_estimators': [100, 500, 700, 1000],\n",
              "                                        'reg_alpha': [1e-05, 0.01, 0.1, 1, 100],\n",
              "                                        'reg_lambda': [1e-05, 0.01, 0.1, 1,\n",
              "                                                       100],\n",
              "                                        'scale_pos_weight': [2],\n",
              "                                        'subsample': [0.5, 0.6, 0.7, 0.8, 0.9]},\n",
              "                   pre_dispatch='2*n_jobs', random_state=None, refit=True,\n",
              "                   return_train_score=False, scoring='roc_auc', verbose=1)"
            ]
          },
          "metadata": {
            "tags": []
          },
          "execution_count": 74
        }
      ]
    },
    {
      "cell_type": "code",
      "metadata": {
        "id": "KLbJqZZth8QU",
        "colab_type": "code",
        "colab": {}
      },
      "source": [
        "xgb_best= random_search.best_estimator_"
      ],
      "execution_count": 0,
      "outputs": []
    },
    {
      "cell_type": "code",
      "metadata": {
        "id": "57ZxRfwih8AG",
        "colab_type": "code",
        "colab": {}
      },
      "source": [
        "xgb_params= {\n",
        "    'learning_rate': [0.1, 0.3, 0.5, 0.7],\n",
        "    'gamma': [i/10.0 for i in range(0,5)],\n",
        "    'max_depth': [2,3,4,5,8,10],\n",
        "    'min_child_weight': [1,2,5,10],\n",
        "    'max_delta_step': [0,1,2,5,10],\n",
        "    'subsample': [i/10.0 for i in range(5,10)],\n",
        "    'colsample_bytree': [i/10.0 for i in range(5,10)],\n",
        "    'colsample_bylevel': [i/10.0 for i in range(5,10)], \n",
        "    'reg_lambda': [1e-5, 1e-2, 0.1, 1, 100],\n",
        "    'reg_alpha': [1e-5, 1e-2, 0.1, 1, 100],\n",
        "    'scale_pos_weight': [2],\n",
        "    'n_estimators': [100, 500, 700, 1000]\n",
        "}"
      ],
      "execution_count": 0,
      "outputs": []
    },
    {
      "cell_type": "code",
      "metadata": {
        "id": "816NxU7hcYSX",
        "colab_type": "code",
        "outputId": "f37f5b0c-2229-4196-f4a5-d7ca4ff4b3bf",
        "colab": {
          "base_uri": "https://localhost:8080/",
          "height": 255
        }
      },
      "source": [
        "report(random_search.cv_results_, 3)"
      ],
      "execution_count": 0,
      "outputs": [
        {
          "output_type": "stream",
          "text": [
            "Model with rank: 1\n",
            "Mean validation score: 0.901 (std: 0.004)\n",
            "Parameters: {'subsample': 0.8, 'scale_pos_weight': 2, 'reg_lambda': 0.1, 'reg_alpha': 1, 'n_estimators': 700, 'min_child_weight': 5, 'max_depth': 3, 'max_delta_step': 10, 'learning_rate': 0.3, 'gamma': 0.3, 'colsample_bytree': 0.7, 'colsample_bylevel': 0.5}\n",
            "\n",
            "Model with rank: 2\n",
            "Mean validation score: 0.900 (std: 0.004)\n",
            "Parameters: {'subsample': 0.6, 'scale_pos_weight': 2, 'reg_lambda': 0.01, 'reg_alpha': 1, 'n_estimators': 100, 'min_child_weight': 10, 'max_depth': 10, 'max_delta_step': 10, 'learning_rate': 0.05, 'gamma': 0.3, 'colsample_bytree': 0.9, 'colsample_bylevel': 0.6}\n",
            "\n",
            "Model with rank: 3\n",
            "Mean validation score: 0.892 (std: 0.002)\n",
            "Parameters: {'subsample': 0.5, 'scale_pos_weight': 2, 'reg_lambda': 1, 'reg_alpha': 1e-05, 'n_estimators': 700, 'min_child_weight': 1, 'max_depth': 2, 'max_delta_step': 0, 'learning_rate': 0.05, 'gamma': 0.0, 'colsample_bytree': 0.6, 'colsample_bylevel': 0.8}\n",
            "\n"
          ],
          "name": "stdout"
        }
      ]
    },
    {
      "cell_type": "code",
      "metadata": {
        "id": "vZCiC6xqcYWe",
        "colab_type": "code",
        "colab": {}
      },
      "source": [
        "xgb_best_params= {'subsample': 0.8, 'scale_pos_weight': 2, 'reg_lambda': 0.1, 'reg_alpha': 1, 'n_estimators': 700, 'min_child_weight': 5, 'max_depth': 3,\n",
        "                  'max_delta_step': 10, 'learning_rate': 0.3, 'gamma': 0.3, 'colsample_bytree': 0.7, 'colsample_bylevel': 0.5}"
      ],
      "execution_count": 0,
      "outputs": []
    },
    {
      "cell_type": "code",
      "metadata": {
        "id": "QA-VPSEJcYY0",
        "colab_type": "code",
        "colab": {}
      },
      "source": [
        "xgb_best_classifier= xgb.XGBClassifier(verbose=1, n_jobs=-1, cv=5, n_iter= n_iter, scoring='roc_auc', subsample= 0.8, scale_pos_weight= 2, reg_lambda= 0.1,\n",
        "                                       reg_alpha= 1, n_estimators= 700, min_child_weight= 5, max_depth= 3, max_delta_step= 10, learning_rate= 0.3, gamma= 0.3, \n",
        "                                       colsample_bytree= 0.7, colsample_bylevel=0.5)"
      ],
      "execution_count": 0,
      "outputs": []
    },
    {
      "cell_type": "code",
      "metadata": {
        "id": "VGkdrNW3h8Vh",
        "colab_type": "code",
        "outputId": "ccb5738d-0531-4608-aabb-9f982282e12a",
        "colab": {
          "base_uri": "https://localhost:8080/",
          "height": 162
        }
      },
      "source": [
        "xgb_best_classifier.fit(X_test_rfe, Y_test_rfe)"
      ],
      "execution_count": 0,
      "outputs": [
        {
          "output_type": "execute_result",
          "data": {
            "text/plain": [
              "XGBClassifier(base_score=0.5, booster='gbtree', colsample_bylevel=0.5,\n",
              "              colsample_bynode=1, colsample_bytree=0.7, cv=5, gamma=0.3,\n",
              "              learning_rate=0.3, max_delta_step=10, max_depth=3,\n",
              "              min_child_weight=5, missing=None, n_estimators=700, n_iter=10,\n",
              "              n_jobs=-1, nthread=None, objective='binary:logistic',\n",
              "              random_state=0, reg_alpha=1, reg_lambda=0.1, scale_pos_weight=2,\n",
              "              scoring='roc_auc', seed=None, silent=None, subsample=0.8,\n",
              "              verbose=1, verbosity=1)"
            ]
          },
          "metadata": {
            "tags": []
          },
          "execution_count": 92
        }
      ]
    },
    {
      "cell_type": "code",
      "metadata": {
        "id": "6om6Anzrh8XB",
        "colab_type": "code",
        "outputId": "e3ffdb4c-2231-4d87-9862-20431f791a62",
        "colab": {
          "base_uri": "https://localhost:8080/",
          "height": 35
        }
      },
      "source": [
        "predicted_xgbst= xgb_best_classifier.predict(X_test_rfe)\n",
        "predicted_xgbst"
      ],
      "execution_count": 0,
      "outputs": [
        {
          "output_type": "execute_result",
          "data": {
            "text/plain": [
              "array([0., 0., 0., ..., 0., 0., 0.])"
            ]
          },
          "metadata": {
            "tags": []
          },
          "execution_count": 93
        }
      ]
    },
    {
      "cell_type": "code",
      "metadata": {
        "id": "fGw0Xf_wqa8d",
        "colab_type": "code",
        "outputId": "f0525791-2768-4642-da1e-a1be2d9c49d1",
        "colab": {
          "base_uri": "https://localhost:8080/",
          "height": 35
        }
      },
      "source": [
        "roc_auc_score(Y_test_rfe, predicted_xgbst) , accuracy_score(Y_test_rfe, predicted_xgbst>), f1_score(Y_test_rfe, predicted_xgbst)"
      ],
      "execution_count": 0,
      "outputs": [
        {
          "output_type": "execute_result",
          "data": {
            "text/plain": [
              "(0.7387500224211608, 0.9448093413610655, 0.6022353714661407)"
            ]
          },
          "metadata": {
            "tags": []
          },
          "execution_count": 111
        }
      ]
    },
    {
      "cell_type": "markdown",
      "metadata": {
        "id": "Efsc29Rqs58X",
        "colab_type": "text"
      },
      "source": [
        "### **Lets train the entire TRAIN data and predict the TEST file..**"
      ]
    },
    {
      "cell_type": "code",
      "metadata": {
        "id": "QMXAv5OrqbCu",
        "colab_type": "code",
        "outputId": "fc2abde6-814e-49fe-e05d-7c894babe9c2",
        "colab": {
          "base_uri": "https://localhost:8080/",
          "height": 162
        }
      },
      "source": [
        "xgb_best_classifier.fit(X_train_full, Y_train_full)"
      ],
      "execution_count": 0,
      "outputs": [
        {
          "output_type": "execute_result",
          "data": {
            "text/plain": [
              "XGBClassifier(base_score=0.5, booster='gbtree', colsample_bylevel=0.5,\n",
              "              colsample_bynode=1, colsample_bytree=0.7, cv=5, gamma=0.3,\n",
              "              learning_rate=0.3, max_delta_step=10, max_depth=3,\n",
              "              min_child_weight=5, missing=None, n_estimators=700, n_iter=10,\n",
              "              n_jobs=-1, nthread=None, objective='binary:logistic',\n",
              "              random_state=0, reg_alpha=1, reg_lambda=0.1, scale_pos_weight=2,\n",
              "              scoring='roc_auc', seed=None, silent=None, subsample=0.8,\n",
              "              verbose=1, verbosity=1)"
            ]
          },
          "metadata": {
            "tags": []
          },
          "execution_count": 98
        }
      ]
    },
    {
      "cell_type": "code",
      "metadata": {
        "id": "rr1qe97uqa69",
        "colab_type": "code",
        "outputId": "47297abc-8083-4506-c742-e67097d32ff2",
        "colab": {
          "base_uri": "https://localhost:8080/",
          "height": 35
        }
      },
      "source": [
        "predicted_xgb_full= xgb_best_classifier.predict(X_test_file)\n",
        "predicted_xgb_full"
      ],
      "execution_count": 0,
      "outputs": [
        {
          "output_type": "execute_result",
          "data": {
            "text/plain": [
              "array([0., 0., 0., ..., 0., 0., 1.])"
            ]
          },
          "metadata": {
            "tags": []
          },
          "execution_count": 101
        }
      ]
    },
    {
      "cell_type": "code",
      "metadata": {
        "id": "D25EXyZ5txFT",
        "colab_type": "code",
        "colab": {}
      },
      "source": [
        "my_solution= pd.DataFrame({'employee_id': employee_id , 'is_promoted': predicted_xgb_full})"
      ],
      "execution_count": 0,
      "outputs": []
    },
    {
      "cell_type": "code",
      "metadata": {
        "id": "-ai6FVvSuGLQ",
        "colab_type": "code",
        "colab": {}
      },
      "source": [
        "pd.DataFrame(my_solution).to_csv(\"/content/solution_file.csv\")"
      ],
      "execution_count": 0,
      "outputs": []
    },
    {
      "cell_type": "markdown",
      "metadata": {
        "id": "HBTxJOsmgkC6",
        "colab_type": "text"
      },
      "source": [
        "This is a one of the Hackathon dataset from AnalyticsVidhya...\n",
        "\n",
        "And when Iam trying to predict the unseen data that is test file, the accuracy is still being ~49%.\n",
        "\n",
        "Eventually, I would be making another try with different algorithms and with different hyperparameter tuning."
      ]
    },
    {
      "cell_type": "markdown",
      "metadata": {
        "id": "pUFX4ImXhicR",
        "colab_type": "text"
      },
      "source": [
        "### ***                                                                        THE END...***"
      ]
    }
  ]
}